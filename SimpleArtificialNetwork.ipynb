{
 "cells": [
  {
   "cell_type": "code",
   "execution_count": 1,
   "id": "8eddf825-723f-4c64-b038-d83498335fdb",
   "metadata": {},
   "outputs": [],
   "source": [
    "import torch\n",
    "import torchvision\n",
    "import torchvision.transforms as transforms\n",
    "\n",
    "import matplotlib.pyplot as plt\n",
    "\n",
    "from spikenet.network import Network\n",
    "from spikenet.dataloader import DataLoader"
   ]
  },
  {
   "cell_type": "code",
   "execution_count": 2,
   "id": "1a65a633-50fb-4e5f-8f17-a2807d22a448",
   "metadata": {},
   "outputs": [
    {
     "name": "stdout",
     "output_type": "stream",
     "text": [
      "My Network:\n",
      "ModuleList(\n",
      "  (0): Linear(in_features=784, out_features=500, bias=True)\n",
      "  (1): ReLU()\n",
      "  (2): Linear(in_features=500, out_features=10, bias=True)\n",
      ")\n"
     ]
    }
   ],
   "source": [
    "net = (\n",
    "    Network()\n",
    "    .add_layer(torch.nn.Linear, 28 * 28, 500)\n",
    "    .add_layer(torch.nn.ReLU)\n",
    "    .add_layer(torch.nn.Linear, 500, 10)\n",
    "    .build()\n",
    ")\n",
    "print(net)"
   ]
  },
  {
   "cell_type": "code",
   "execution_count": 3,
   "id": "4334c7b3-32da-43d8-9f67-7ff0ce1a8493",
   "metadata": {},
   "outputs": [],
   "source": [
    "class MyData(DataLoader):\n",
    "    def __init__(self):\n",
    "        super().__init__(\n",
    "            train_data=torchvision.datasets.MNIST(root='./data', train=True, transform=transforms.ToTensor(), download=True),\n",
    "            test_data=torchvision.datasets.MNIST(root='./data', train=False, transform=transforms.ToTensor())\n",
    "        )\n",
    "\n",
    "    def x_transform(self, x):\n",
    "        return x.reshape(-1, 28*28)\n",
    "\n",
    "data = MyData()"
   ]
  },
  {
   "cell_type": "code",
   "execution_count": 4,
   "id": "563545e1-4ecf-471a-bd4e-1370e7ff8710",
   "metadata": {},
   "outputs": [
    {
     "data": {
      "image/png": "[encoded data removed]",
      "text/plain": [
       "<Figure size 640x480 with 1 Axes>"
      ]
     },
     "metadata": {},
     "output_type": "display_data"
    }
   ],
   "source": [
    "x, y = data.sample()\n",
    "img = x.reshape(28, 28).numpy()\n",
    "plt.imshow(img, cmap='gray')\n",
    "plt.title(f\"This is a: {y.item()}\")\n",
    "plt.show()"
   ]
  },
  {
   "cell_type": "code",
   "execution_count": 5,
   "id": "13422307-c341-497e-8ffc-907de1568a38",
   "metadata": {},
   "outputs": [
    {
     "data": {
      "text/plain": [
       "(10000, 9227)"
      ]
     },
     "execution_count": 5,
     "metadata": {},
     "output_type": "execute_result"
    }
   ],
   "source": [
    "net.fit(data)"
   ]
  }
 ],
 "metadata": {
  "kernelspec": {
   "display_name": "Python 3 (ipykernel)",
   "language": "python",
   "name": "python3"
  },
  "language_info": {
   "codemirror_mode": {
    "name": "ipython",
    "version": 3
   },
   "file_extension": ".py",
   "mimetype": "text/x-python",
   "name": "python",
   "nbconvert_exporter": "python",
   "pygments_lexer": "ipython3",
   "version": "3.11.7"
  }
 },
 "nbformat": 4,
 "nbformat_minor": 5
}
