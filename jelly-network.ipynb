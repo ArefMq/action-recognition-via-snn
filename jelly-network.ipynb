{
 "cells": [
  {
   "cell_type": "code",
   "execution_count": 1,
   "metadata": {},
   "outputs": [
    {
     "data": {
      "text/plain": [
       "{'divide': 'warn', 'over': 'warn', 'under': 'ignore', 'invalid': 'warn'}"
      ]
     },
     "execution_count": 1,
     "metadata": {},
     "output_type": "execute_result"
    }
   ],
   "source": [
    "import torch\n",
    "import torch.nn as nn\n",
    "import numpy as np\n",
    "from random import random\n",
    "np.seterr(all='raise')"
   ]
  },
  {
   "cell_type": "code",
   "execution_count": 2,
   "metadata": {},
   "outputs": [],
   "source": [
    "# setup matplotlib\n",
    "import matplotlib\n",
    "is_ipython = 'inline' in matplotlib.get_backend()\n",
    "if is_ipython:\n",
    "    from IPython import display\n",
    "    SAVE_PLOTS = False\n",
    "else:\n",
    "    matplotlib.use('Agg')\n",
    "    SAVE_PLOTS = True\n",
    "import matplotlib.pyplot as plt"
   ]
  },
  {
   "cell_type": "code",
   "execution_count": 3,
   "metadata": {},
   "outputs": [],
   "source": [
    "from utils import plot_spikes_in_time, print_and_plot_accuracy_metrics, plot_metrics, train_test_split\n",
    "from scnn import SNN\n",
    "from scnn.Spike.readin import ReadInLayer\n",
    "from scnn.optim import RAdam\n",
    "\n",
    "# from data.data_augmentor import data_augment, batchify, GESTURE_MAPPING\n",
    "from tools.time_expector import TimeExpector\n",
    "from tools.notify import notify\n",
    "time_expector = TimeExpector()"
   ]
  },
  {
   "cell_type": "code",
   "execution_count": 4,
   "metadata": {},
   "outputs": [
    {
     "name": "stdout",
     "output_type": "stream",
     "text": [
      "Device: cpu\n"
     ]
    }
   ],
   "source": [
    "#======================================== Data ========================================\n",
    "# from navgesture import load_all, classes, num_of_classes\n",
    "# DATA_PATH = './drive/My Drive/Colab Notebooks/dataset/navgesture/user01/*'\n",
    "# DATA_PATH = './navgesture/user*/*'\n",
    "\n",
    "from data import load_all, classes, num_of_classes\n",
    "# DATA_PATH = './dvs/'\n",
    "DATA_PATH = '/media/aref/TeraDisk/Workspace/dvs'\n",
    "\n",
    "#===================================== Parameters =====================================\n",
    "BATCH_SIZE = 1\n",
    "IMAGE_SIZE = (128, 128)\n",
    "IMAGE_SCALE = (.4, .4)\n",
    "FRAMES = 20\n",
    "FRAME_LENGTH = 5000 # in timestamps\n",
    "POLARITY_MODE = 'accumulative' # 'twolayer' 'onelayer' 'ignore'\n",
    "\n",
    "LEARNING_RATE = 1e-4\n",
    "WEIGHT_DECAY = 1e-5\n",
    "EPOCHS = 30\n",
    "NET_STR = 'c(64,k7) -> c(128,k7) -> c(256,k7) -> d(256,l) -> d(128,l)'\n",
    "\n",
    "#====================================== Configs  ======================================\n",
    "read_in_channels = 2 if POLARITY_MODE in ['accumulative', 'twolayer'] else 1\n",
    "device = torch.device('cpu')# if not torch.cuda.is_available() else 'cuda')\n",
    "dtype = torch.float\n",
    "print(\"Device:\", device)"
   ]
  },
  {
   "cell_type": "code",
   "execution_count": 5,
   "metadata": {},
   "outputs": [],
   "source": [
    "data_loading_config = {\n",
    "    'batch_size': BATCH_SIZE,\n",
    "    'image_size': IMAGE_SIZE,\n",
    "    'image_scale': IMAGE_SCALE,\n",
    "    'frames': FRAMES,\n",
    "    'frame_len': FRAME_LENGTH,\n",
    "    'polarity_mode': POLARITY_MODE,\n",
    "    'data_path': DATA_PATH,\n",
    "    'max_read_file': 10,\n",
    "}\n",
    "\n",
    "x_cache_train = x_cache_test = y_cache_train = y_cache_test = None\n",
    "\n",
    "def load_cache():\n",
    "    global x_cache_train, x_cache_test, y_cache_train, y_cache_test\n",
    "    \n",
    "    x_cache_data = []\n",
    "    y_cache_data = []\n",
    "\n",
    "    for xc, yc in load_all(**data_loading_confignfig):\n",
    "        x_cache_data.append(xc)\n",
    "        y_cache_data.append(yc)\n",
    "\n",
    "    x_cache_train, x_cache_test, y_cache_train, y_cache_test = train_test_split(\n",
    "        x_cache_data,\n",
    "        y_cache_data,\n",
    "        test_size=0.3\n",
    "    )\n",
    "\n",
    "    print('[Done]')\n",
    "    print('Train Dataset Size: %d * %d' % (len(x_cache_train), BATCH_SIZE))\n",
    "    print('Test Dataset Size: %d * %d' % (len(x_cache_test), BATCH_SIZE))\n",
    "    print('-------------------------\\n')\n",
    "    if len(x_cache_test) == 0 or len(x_cache_train) == 0:\n",
    "        raise Exception('not enough data collected')"
   ]
  },
  {
   "cell_type": "code",
   "execution_count": 6,
   "metadata": {},
   "outputs": [],
   "source": [
    "def batchify(data, batch_size):\n",
    "    x_batch = []\n",
    "    y_batch = []\n",
    "    for x_chunk, y_chunk in data:\n",
    "        if len(x_batch) == batch_size:\n",
    "            yield x_batch, y_batch\n",
    "            x_batch = []\n",
    "            y_batch = []\n",
    "        x_batch.append(x_chunk.to_dense().numpy() if x_chunk.layout == torch.sparse_coo else x_chunk.numpy())\n",
    "        y_batch.append(y_chunk)\n",
    "\n",
    "    \n",
    "def load_data(trail=''):\n",
    "    if x_cache_train is None or x_cache_test is None:\n",
    "        load_cache()\n",
    "    \n",
    "    trail = trail.replace('acc_', '')\n",
    "    zipper = zip(x_cache_train, y_cache_train) if trail == 'train' else zip(x_cache_test, y_cache_test)\n",
    "    for x_data, y_data in batchify(zipper, BATCH_SIZE):\n",
    "#         yield np.array(x_data)[:, 0, :, :, :, :], np.array(y_data)[:,0]\n",
    "        yield np.array(x_data).reshape(BATCH_SIZE, FRAMES, read_in_channels, 128, 128), np.array(y_data)"
   ]
  },
  {
   "cell_type": "code",
   "execution_count": 7,
   "metadata": {
    "scrolled": false
   },
   "outputs": [],
   "source": [
    "# #====================================== Network Begining =====================================\n",
    "# network = SNN(\n",
    "#     device=device,\n",
    "#     dtype=dtype,\n",
    "#     input_layer=ReadInLayer(\n",
    "#         input_shape=(128,128),\n",
    "#         input_channels=read_in_channels\n",
    "#     )\n",
    "# )\n",
    "\n",
    "# network.network.time_expector = time_expector\n",
    "# # network.notifier = notify # FIXME\n",
    "# # network.add_pool2d(input_shape=(128,128), kernel_size=(2,2), reduction='max')\n",
    "\n",
    "\n",
    "# #===================================== Network Structure =====================================\n",
    "\n",
    "# network.parse_str(NET_STR)\n",
    "\n",
    "# # network.add_conv3d(\n",
    "# #     output_channels=5,\n",
    "# #     kernel_size=(1,3,3),\n",
    "# #     dilation=(1,1,1),\n",
    "# #     lateral_connections=True,\n",
    "# #     recurrent=False,\n",
    "# #     w_init_mean=0.00,\n",
    "# #     w_init_std=0.05\n",
    "# # )\n",
    "# # network.add_pool2d(kernel_size=(2,2), reduction='max')\n",
    "\n",
    "\n",
    "# # network.add_dense(\n",
    "# #     output_shape=5,\n",
    "# #     w_init_mean=0.0,\n",
    "# #     w_init_std=0.3,\n",
    "# #     lateral_connections=True,\n",
    "# #     recurrent=False,\n",
    "# # #     dropout_prob=0.3,\n",
    "# # )\n",
    "\n",
    "\n",
    "# #=================================== Network Finalization ====================================\n",
    "# network.add_readout(\n",
    "#     output_shape=num_of_classes,\n",
    "#     time_reduction=\"max\",\n",
    "\n",
    "#     w_init_mean=0.0,\n",
    "#     w_init_std=0.3\n",
    "# )\n",
    "# network.compile()\n",
    "# network.print_summery()\n",
    "# # print('Network Summery:', network)\n",
    "# network.plot_one_batch(load_data('train'))"
   ]
  },
  {
   "cell_type": "code",
   "execution_count": 8,
   "metadata": {},
   "outputs": [],
   "source": [
    "# result_file = open('./logs/results.log', 'a+') if SAVE_PLOTS else None\n",
    "# opt = RAdam(network.get_trainable_parameters(LEARNING_RATE, WEIGHT_DECAY))\n",
    "# # opt = torch.optim.SGD(network.get_trainable_parameters(LEARNING_RATE, WEIGHT_DECAY), lr=LEARNING_RATE, momentum=0.9)\n",
    "\n",
    "# res_metrics = network.fit(\n",
    "#     load_data,\n",
    "#     epochs=EPOCHS,\n",
    "#     optimizer=opt,\n",
    "#     result_file=result_file,\n",
    "#     save_checkpoints=False, #SAVE_PLOTS\n",
    "# )\n",
    "# plot_metrics(res_metrics, save_plot_path='./logs/metrics_' if SAVE_PLOTS else None)\n",
    "\n",
    "# if SAVE_PLOTS:\n",
    "#     result_file.close()"
   ]
  },
  {
   "cell_type": "code",
   "execution_count": 9,
   "metadata": {},
   "outputs": [],
   "source": [
    "# network.save('./logs/save_network.net')\n",
    "# network.load('./logs/save_network.net')"
   ]
  },
  {
   "cell_type": "code",
   "execution_count": 10,
   "metadata": {},
   "outputs": [],
   "source": [
    "# network.plot_one_batch(load_data('test'))\n",
    "# print_and_plot_accuracy_metrics(\n",
    "#     network, \n",
    "#     load_data('acc_train'), \n",
    "#     load_data('acc_test'), \n",
    "#     save_plot_path='./logs/truth_' if SAVE_PLOTS else None\n",
    "# )"
   ]
  },
  {
   "cell_type": "code",
   "execution_count": null,
   "metadata": {},
   "outputs": [],
   "source": []
  },
  {
   "cell_type": "code",
   "execution_count": null,
   "metadata": {},
   "outputs": [],
   "source": []
  },
  {
   "cell_type": "code",
   "execution_count": null,
   "metadata": {},
   "outputs": [],
   "source": []
  },
  {
   "cell_type": "code",
   "execution_count": null,
   "metadata": {},
   "outputs": [],
   "source": []
  },
  {
   "cell_type": "code",
   "execution_count": null,
   "metadata": {},
   "outputs": [],
   "source": []
  },
  {
   "cell_type": "code",
   "execution_count": null,
   "metadata": {},
   "outputs": [],
   "source": []
  },
  {
   "cell_type": "code",
   "execution_count": null,
   "metadata": {},
   "outputs": [],
   "source": []
  },
  {
   "cell_type": "code",
   "execution_count": 11,
   "metadata": {},
   "outputs": [],
   "source": [
    "import torch\n",
    "import torch.nn as nn\n",
    "import torch.nn.functional as F\n",
    "import torchvision\n",
    "from spikingjelly.clock_driven import neuron, functional, surrogate, layer\n",
    "from torch.utils.tensorboard import SummaryWriter\n",
    "import sys\n",
    "if sys.platform != 'win32':\n",
    "    import readline\n"
   ]
  },
  {
   "cell_type": "code",
   "execution_count": 12,
   "metadata": {},
   "outputs": [],
   "source": [
    "class Net(nn.Module):\n",
    "    def __init__(self, tau, T, v_threshold=1.0, v_reset=0.0):\n",
    "        super().__init__()\n",
    "        self.T = T\n",
    "\n",
    "        self.static_conv = nn.Sequential(\n",
    "            nn.MaxPool2d(2, 2),\n",
    "            nn.Conv2d(1, 128, kernel_size=3, padding=1, bias=False),\n",
    "            nn.BatchNorm2d(128),\n",
    "        )\n",
    "\n",
    "        self.conv = nn.Sequential(\n",
    "            neuron.IFNode(v_threshold=v_threshold, v_reset=v_reset, surrogate_function=surrogate.ATan()),\n",
    "            nn.MaxPool2d(2, 2),  # 32 * 32\n",
    "\n",
    "            nn.Conv2d(128, 128, kernel_size=3, padding=1, bias=False),\n",
    "            nn.BatchNorm2d(128),\n",
    "            neuron.IFNode(v_threshold=v_threshold, v_reset=v_reset, surrogate_function=surrogate.ATan()),\n",
    "            nn.MaxPool2d(2, 2)  # 16 * 16\n",
    "\n",
    "        )\n",
    "        self.fc = nn.Sequential(\n",
    "            nn.Flatten(),\n",
    "            layer.Dropout(0.7),\n",
    "            nn.Linear(128 * 16 * 16, 128 * 3 * 3, bias=False),\n",
    "            neuron.LIFNode(tau=tau, v_threshold=v_threshold, v_reset=v_reset, surrogate_function=surrogate.ATan()),\n",
    "            layer.Dropout(0.7),\n",
    "            nn.Linear(128 * 3 * 3, 128, bias=False),\n",
    "            neuron.LIFNode(tau=tau, v_threshold=v_threshold, v_reset=v_reset, surrogate_function=surrogate.ATan()),\n",
    "            nn.Linear(128, num_of_classes, bias=False),\n",
    "            neuron.LIFNode(tau=tau, v_threshold=v_threshold, v_reset=v_reset, surrogate_function=surrogate.ATan()),\n",
    "        )\n",
    "\n",
    "\n",
    "    def forward(self, x):\n",
    "        x = self.static_conv(x)\n",
    "\n",
    "        out_spikes_counter = self.fc(self.conv(x))\n",
    "        for t in range(1, self.T):\n",
    "            out_spikes_counter += self.fc(self.conv(x))\n",
    "\n",
    "        return out_spikes_counter / self.T"
   ]
  },
  {
   "cell_type": "code",
   "execution_count": 13,
   "metadata": {},
   "outputs": [],
   "source": [
    "T = FRAMES\n",
    "tau = 2.\n",
    "train_epoch = EPOCHS"
   ]
  },
  {
   "cell_type": "code",
   "execution_count": null,
   "metadata": {},
   "outputs": [
    {
     "name": "stdout",
     "output_type": "stream",
     "text": [
      "npy format events data root /media/aref/TeraDisk/Workspace/dvs/events_npy/train, /media/aref/TeraDisk/Workspace/dvs/events_npy/test already exists\n",
      "frames data root /media/aref/TeraDisk/Workspace/dvs/frames_num_20_split_by_number_normalization_None already exists.\n",
      "[Done]\n",
      "Train Dataset Size: 7 * 1\n",
      "Test Dataset Size: 2 * 1\n",
      "-------------------------\n",
      "\n",
      "T:  0shp torch.Size([1])\n",
      "acc: 0.0\n",
      "T:  1shp torch.Size([1])\n",
      "acc: 0.0\n",
      "T:  2"
     ]
    },
    {
     "ename": "KeyboardInterrupt",
     "evalue": "",
     "output_type": "error",
     "traceback": [
      "\u001b[0;31m---------------------------------------------------------------------------\u001b[0m",
      "\u001b[0;31mKeyboardInterrupt\u001b[0m                         Traceback (most recent call last)",
      "\u001b[0;32m<ipython-input-14-dc8236b56d50>\u001b[0m in \u001b[0;36m<module>\u001b[0;34m\u001b[0m\n\u001b[1;32m     14\u001b[0m \u001b[0;34m\u001b[0m\u001b[0m\n\u001b[1;32m     15\u001b[0m         \u001b[0moptimizer\u001b[0m\u001b[0;34m.\u001b[0m\u001b[0mzero_grad\u001b[0m\u001b[0;34m(\u001b[0m\u001b[0;34m)\u001b[0m\u001b[0;34m\u001b[0m\u001b[0;34m\u001b[0m\u001b[0m\n\u001b[0;32m---> 16\u001b[0;31m         \u001b[0mout_spikes_counter_frequency\u001b[0m \u001b[0;34m=\u001b[0m \u001b[0mnet\u001b[0m\u001b[0;34m(\u001b[0m\u001b[0mimg\u001b[0m\u001b[0;34m)\u001b[0m\u001b[0;34m\u001b[0m\u001b[0;34m\u001b[0m\u001b[0m\n\u001b[0m\u001b[1;32m     17\u001b[0m \u001b[0;34m\u001b[0m\u001b[0m\n\u001b[1;32m     18\u001b[0m         \u001b[0mmax_over_time\u001b[0m \u001b[0;34m=\u001b[0m \u001b[0mtorch\u001b[0m\u001b[0;34m.\u001b[0m\u001b[0mmax\u001b[0m\u001b[0;34m(\u001b[0m\u001b[0mout_spikes_counter_frequency\u001b[0m\u001b[0;34m,\u001b[0m \u001b[0maxis\u001b[0m\u001b[0;34m=\u001b[0m\u001b[0;36m0\u001b[0m\u001b[0;34m)\u001b[0m\u001b[0;34m.\u001b[0m\u001b[0mvalues\u001b[0m\u001b[0;34m.\u001b[0m\u001b[0mview\u001b[0m\u001b[0;34m(\u001b[0m\u001b[0;34m[\u001b[0m\u001b[0;36m1\u001b[0m\u001b[0;34m,\u001b[0m \u001b[0mnum_of_classes\u001b[0m\u001b[0;34m]\u001b[0m\u001b[0;34m)\u001b[0m\u001b[0;34m\u001b[0m\u001b[0;34m\u001b[0m\u001b[0m\n",
      "\u001b[0;32m~/.local/lib/python3.8/site-packages/torch/nn/modules/module.py\u001b[0m in \u001b[0;36m_call_impl\u001b[0;34m(self, *input, **kwargs)\u001b[0m\n\u001b[1;32m    725\u001b[0m             \u001b[0mresult\u001b[0m \u001b[0;34m=\u001b[0m \u001b[0mself\u001b[0m\u001b[0;34m.\u001b[0m\u001b[0m_slow_forward\u001b[0m\u001b[0;34m(\u001b[0m\u001b[0;34m*\u001b[0m\u001b[0minput\u001b[0m\u001b[0;34m,\u001b[0m \u001b[0;34m**\u001b[0m\u001b[0mkwargs\u001b[0m\u001b[0;34m)\u001b[0m\u001b[0;34m\u001b[0m\u001b[0;34m\u001b[0m\u001b[0m\n\u001b[1;32m    726\u001b[0m         \u001b[0;32melse\u001b[0m\u001b[0;34m:\u001b[0m\u001b[0;34m\u001b[0m\u001b[0;34m\u001b[0m\u001b[0m\n\u001b[0;32m--> 727\u001b[0;31m             \u001b[0mresult\u001b[0m \u001b[0;34m=\u001b[0m \u001b[0mself\u001b[0m\u001b[0;34m.\u001b[0m\u001b[0mforward\u001b[0m\u001b[0;34m(\u001b[0m\u001b[0;34m*\u001b[0m\u001b[0minput\u001b[0m\u001b[0;34m,\u001b[0m \u001b[0;34m**\u001b[0m\u001b[0mkwargs\u001b[0m\u001b[0;34m)\u001b[0m\u001b[0;34m\u001b[0m\u001b[0;34m\u001b[0m\u001b[0m\n\u001b[0m\u001b[1;32m    728\u001b[0m         for hook in itertools.chain(\n\u001b[1;32m    729\u001b[0m                 \u001b[0m_global_forward_hooks\u001b[0m\u001b[0;34m.\u001b[0m\u001b[0mvalues\u001b[0m\u001b[0;34m(\u001b[0m\u001b[0;34m)\u001b[0m\u001b[0;34m,\u001b[0m\u001b[0;34m\u001b[0m\u001b[0;34m\u001b[0m\u001b[0m\n",
      "\u001b[0;32m<ipython-input-12-ced6b1190e2a>\u001b[0m in \u001b[0;36mforward\u001b[0;34m(self, x)\u001b[0m\n\u001b[1;32m     38\u001b[0m         \u001b[0mout_spikes_counter\u001b[0m \u001b[0;34m=\u001b[0m \u001b[0mself\u001b[0m\u001b[0;34m.\u001b[0m\u001b[0mfc\u001b[0m\u001b[0;34m(\u001b[0m\u001b[0mself\u001b[0m\u001b[0;34m.\u001b[0m\u001b[0mconv\u001b[0m\u001b[0;34m(\u001b[0m\u001b[0mx\u001b[0m\u001b[0;34m)\u001b[0m\u001b[0;34m)\u001b[0m\u001b[0;34m\u001b[0m\u001b[0;34m\u001b[0m\u001b[0m\n\u001b[1;32m     39\u001b[0m         \u001b[0;32mfor\u001b[0m \u001b[0mt\u001b[0m \u001b[0;32min\u001b[0m \u001b[0mrange\u001b[0m\u001b[0;34m(\u001b[0m\u001b[0;36m1\u001b[0m\u001b[0;34m,\u001b[0m \u001b[0mself\u001b[0m\u001b[0;34m.\u001b[0m\u001b[0mT\u001b[0m\u001b[0;34m)\u001b[0m\u001b[0;34m:\u001b[0m\u001b[0;34m\u001b[0m\u001b[0;34m\u001b[0m\u001b[0m\n\u001b[0;32m---> 40\u001b[0;31m             \u001b[0mout_spikes_counter\u001b[0m \u001b[0;34m+=\u001b[0m \u001b[0mself\u001b[0m\u001b[0;34m.\u001b[0m\u001b[0mfc\u001b[0m\u001b[0;34m(\u001b[0m\u001b[0mself\u001b[0m\u001b[0;34m.\u001b[0m\u001b[0mconv\u001b[0m\u001b[0;34m(\u001b[0m\u001b[0mx\u001b[0m\u001b[0;34m)\u001b[0m\u001b[0;34m)\u001b[0m\u001b[0;34m\u001b[0m\u001b[0;34m\u001b[0m\u001b[0m\n\u001b[0m\u001b[1;32m     41\u001b[0m \u001b[0;34m\u001b[0m\u001b[0m\n\u001b[1;32m     42\u001b[0m         \u001b[0;32mreturn\u001b[0m \u001b[0mout_spikes_counter\u001b[0m \u001b[0;34m/\u001b[0m \u001b[0mself\u001b[0m\u001b[0;34m.\u001b[0m\u001b[0mT\u001b[0m\u001b[0;34m\u001b[0m\u001b[0;34m\u001b[0m\u001b[0m\n",
      "\u001b[0;32m~/.local/lib/python3.8/site-packages/torch/nn/modules/module.py\u001b[0m in \u001b[0;36m_call_impl\u001b[0;34m(self, *input, **kwargs)\u001b[0m\n\u001b[1;32m    725\u001b[0m             \u001b[0mresult\u001b[0m \u001b[0;34m=\u001b[0m \u001b[0mself\u001b[0m\u001b[0;34m.\u001b[0m\u001b[0m_slow_forward\u001b[0m\u001b[0;34m(\u001b[0m\u001b[0;34m*\u001b[0m\u001b[0minput\u001b[0m\u001b[0;34m,\u001b[0m \u001b[0;34m**\u001b[0m\u001b[0mkwargs\u001b[0m\u001b[0;34m)\u001b[0m\u001b[0;34m\u001b[0m\u001b[0;34m\u001b[0m\u001b[0m\n\u001b[1;32m    726\u001b[0m         \u001b[0;32melse\u001b[0m\u001b[0;34m:\u001b[0m\u001b[0;34m\u001b[0m\u001b[0;34m\u001b[0m\u001b[0m\n\u001b[0;32m--> 727\u001b[0;31m             \u001b[0mresult\u001b[0m \u001b[0;34m=\u001b[0m \u001b[0mself\u001b[0m\u001b[0;34m.\u001b[0m\u001b[0mforward\u001b[0m\u001b[0;34m(\u001b[0m\u001b[0;34m*\u001b[0m\u001b[0minput\u001b[0m\u001b[0;34m,\u001b[0m \u001b[0;34m**\u001b[0m\u001b[0mkwargs\u001b[0m\u001b[0;34m)\u001b[0m\u001b[0;34m\u001b[0m\u001b[0;34m\u001b[0m\u001b[0m\n\u001b[0m\u001b[1;32m    728\u001b[0m         for hook in itertools.chain(\n\u001b[1;32m    729\u001b[0m                 \u001b[0m_global_forward_hooks\u001b[0m\u001b[0;34m.\u001b[0m\u001b[0mvalues\u001b[0m\u001b[0;34m(\u001b[0m\u001b[0;34m)\u001b[0m\u001b[0;34m,\u001b[0m\u001b[0;34m\u001b[0m\u001b[0;34m\u001b[0m\u001b[0m\n",
      "\u001b[0;32m~/.local/lib/python3.8/site-packages/torch/nn/modules/container.py\u001b[0m in \u001b[0;36mforward\u001b[0;34m(self, input)\u001b[0m\n\u001b[1;32m    115\u001b[0m     \u001b[0;32mdef\u001b[0m \u001b[0mforward\u001b[0m\u001b[0;34m(\u001b[0m\u001b[0mself\u001b[0m\u001b[0;34m,\u001b[0m \u001b[0minput\u001b[0m\u001b[0;34m)\u001b[0m\u001b[0;34m:\u001b[0m\u001b[0;34m\u001b[0m\u001b[0;34m\u001b[0m\u001b[0m\n\u001b[1;32m    116\u001b[0m         \u001b[0;32mfor\u001b[0m \u001b[0mmodule\u001b[0m \u001b[0;32min\u001b[0m \u001b[0mself\u001b[0m\u001b[0;34m:\u001b[0m\u001b[0;34m\u001b[0m\u001b[0;34m\u001b[0m\u001b[0m\n\u001b[0;32m--> 117\u001b[0;31m             \u001b[0minput\u001b[0m \u001b[0;34m=\u001b[0m \u001b[0mmodule\u001b[0m\u001b[0;34m(\u001b[0m\u001b[0minput\u001b[0m\u001b[0;34m)\u001b[0m\u001b[0;34m\u001b[0m\u001b[0;34m\u001b[0m\u001b[0m\n\u001b[0m\u001b[1;32m    118\u001b[0m         \u001b[0;32mreturn\u001b[0m \u001b[0minput\u001b[0m\u001b[0;34m\u001b[0m\u001b[0;34m\u001b[0m\u001b[0m\n\u001b[1;32m    119\u001b[0m \u001b[0;34m\u001b[0m\u001b[0m\n",
      "\u001b[0;32m~/.local/lib/python3.8/site-packages/torch/nn/modules/module.py\u001b[0m in \u001b[0;36m_call_impl\u001b[0;34m(self, *input, **kwargs)\u001b[0m\n\u001b[1;32m    725\u001b[0m             \u001b[0mresult\u001b[0m \u001b[0;34m=\u001b[0m \u001b[0mself\u001b[0m\u001b[0;34m.\u001b[0m\u001b[0m_slow_forward\u001b[0m\u001b[0;34m(\u001b[0m\u001b[0;34m*\u001b[0m\u001b[0minput\u001b[0m\u001b[0;34m,\u001b[0m \u001b[0;34m**\u001b[0m\u001b[0mkwargs\u001b[0m\u001b[0;34m)\u001b[0m\u001b[0;34m\u001b[0m\u001b[0;34m\u001b[0m\u001b[0m\n\u001b[1;32m    726\u001b[0m         \u001b[0;32melse\u001b[0m\u001b[0;34m:\u001b[0m\u001b[0;34m\u001b[0m\u001b[0;34m\u001b[0m\u001b[0m\n\u001b[0;32m--> 727\u001b[0;31m             \u001b[0mresult\u001b[0m \u001b[0;34m=\u001b[0m \u001b[0mself\u001b[0m\u001b[0;34m.\u001b[0m\u001b[0mforward\u001b[0m\u001b[0;34m(\u001b[0m\u001b[0;34m*\u001b[0m\u001b[0minput\u001b[0m\u001b[0;34m,\u001b[0m \u001b[0;34m**\u001b[0m\u001b[0mkwargs\u001b[0m\u001b[0;34m)\u001b[0m\u001b[0;34m\u001b[0m\u001b[0;34m\u001b[0m\u001b[0m\n\u001b[0m\u001b[1;32m    728\u001b[0m         for hook in itertools.chain(\n\u001b[1;32m    729\u001b[0m                 \u001b[0m_global_forward_hooks\u001b[0m\u001b[0;34m.\u001b[0m\u001b[0mvalues\u001b[0m\u001b[0;34m(\u001b[0m\u001b[0;34m)\u001b[0m\u001b[0;34m,\u001b[0m\u001b[0;34m\u001b[0m\u001b[0;34m\u001b[0m\u001b[0m\n",
      "\u001b[0;32m~/.local/lib/python3.8/site-packages/spikingjelly/clock_driven/neuron.py\u001b[0m in \u001b[0;36mforward\u001b[0;34m(self, dv)\u001b[0m\n\u001b[1;32m    254\u001b[0m \u001b[0;34m\u001b[0m\u001b[0m\n\u001b[1;32m    255\u001b[0m     \u001b[0;32mdef\u001b[0m \u001b[0mforward\u001b[0m\u001b[0;34m(\u001b[0m\u001b[0mself\u001b[0m\u001b[0;34m,\u001b[0m \u001b[0mdv\u001b[0m\u001b[0;34m:\u001b[0m \u001b[0mtorch\u001b[0m\u001b[0;34m.\u001b[0m\u001b[0mTensor\u001b[0m\u001b[0;34m)\u001b[0m\u001b[0;34m:\u001b[0m\u001b[0;34m\u001b[0m\u001b[0;34m\u001b[0m\u001b[0m\n\u001b[0;32m--> 256\u001b[0;31m         \u001b[0mself\u001b[0m\u001b[0;34m.\u001b[0m\u001b[0mv\u001b[0m \u001b[0;34m+=\u001b[0m \u001b[0mdv\u001b[0m\u001b[0;34m\u001b[0m\u001b[0;34m\u001b[0m\u001b[0m\n\u001b[0m\u001b[1;32m    257\u001b[0m         \u001b[0;32mreturn\u001b[0m \u001b[0mself\u001b[0m\u001b[0;34m.\u001b[0m\u001b[0mspiking\u001b[0m\u001b[0;34m(\u001b[0m\u001b[0;34m)\u001b[0m\u001b[0;34m\u001b[0m\u001b[0;34m\u001b[0m\u001b[0m\n\u001b[1;32m    258\u001b[0m \u001b[0;34m\u001b[0m\u001b[0m\n",
      "\u001b[0;31mKeyboardInterrupt\u001b[0m: "
     ]
    }
   ],
   "source": [
    "\n",
    "\n",
    "net = Net(tau=tau, T=T).to(device)\n",
    "optimizer = torch.optim.Adam(net.parameters(), lr=LEARNING_RATE)\n",
    "train_times = 0\n",
    "max_test_accuracy = 0\n",
    "\n",
    "for epoch in range(train_epoch):\n",
    "    net.train()\n",
    "    for img, label in load_data('train'):\n",
    "        print('\\rT:  %d' % train_times, end='')\n",
    "        img = torch.from_numpy(img)[0, :, 1, :, :].view((20,1,128,128))\n",
    "        img = img.to(device)\n",
    "        label = torch.from_numpy(label).to(device)\n",
    "        label_one_hot = F.one_hot(label, num_of_classes).float()\n",
    "\n",
    "        optimizer.zero_grad()\n",
    "        out_spikes_counter_frequency = net(img)\n",
    "\n",
    "        max_over_time = torch.max(out_spikes_counter_frequency, axis=0).values.view([1, num_of_classes])\n",
    "        loss = F.mse_loss(max_over_time, label_one_hot)\n",
    "        loss.backward()\n",
    "        optimizer.step()\n",
    "\n",
    "        functional.reset_net(net)\n",
    "        accuracy = (max_over_time.max(1)[1] == label).float().mean().item()\n",
    "        train_times += 1\n",
    "\n",
    "    net.eval()\n",
    "    with torch.no_grad():\n",
    "        test_sum = 0\n",
    "        correct_sum = 0\n",
    "        for img, label in load_data('test'):\n",
    "            img = torch.from_numpy(img)[0, :, 1, :, :].view((20,1,128,128))\n",
    "            img = img.to(device)\n",
    "            label = torch.from_numpy(label).to(device)\n",
    "            out_spikes_counter_frequency = net(img)\n",
    "\n",
    "            max_over_time = torch.max(out_spikes_counter_frequency, axis=0).values.view([1, num_of_classes])\n",
    "            correct_sum += (max_over_time.max(1)[1] == label).float().sum().item()\n",
    "            test_sum += label.numel()\n",
    "            functional.reset_net(net)\n",
    "\n",
    "\n",
    "        test_accuracy = correct_sum / test_sum\n",
    "        print('Acc: \\t %.2f' % test_accuracy, end='')\n",
    "        if max_test_accuracy < test_accuracy:\n",
    "            max_test_accuracy = test_accuracy\n",
    "            print('\\t[Max]')\n",
    "        else:\n",
    "            print('')"
   ]
  },
  {
   "cell_type": "code",
   "execution_count": null,
   "metadata": {},
   "outputs": [],
   "source": []
  }
 ],
 "metadata": {
  "kernelspec": {
   "display_name": "Python 3",
   "language": "python",
   "name": "python3"
  },
  "language_info": {
   "codemirror_mode": {
    "name": "ipython",
    "version": 3
   },
   "file_extension": ".py",
   "mimetype": "text/x-python",
   "name": "python",
   "nbconvert_exporter": "python",
   "pygments_lexer": "ipython3",
   "version": "3.8.5"
  }
 },
 "nbformat": 4,
 "nbformat_minor": 4
}
