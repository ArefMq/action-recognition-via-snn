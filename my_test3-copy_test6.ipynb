{
 "cells": [
  {
   "cell_type": "code",
   "execution_count": 1,
   "metadata": {},
   "outputs": [],
   "source": [
    "import os\n",
    "\n",
    "import numpy as np\n",
    "import matplotlib.pyplot as plt\n",
    "from matplotlib.gridspec import GridSpec\n",
    "import seaborn as sns\n",
    "\n",
    "import torch\n",
    "import torch.nn as nn\n",
    "import torchvision\n",
    "\n",
    "from time import sleep, time\n",
    "from sklearn.model_selection import train_test_split"
   ]
  },
  {
   "cell_type": "code",
   "execution_count": 2,
   "metadata": {},
   "outputs": [],
   "source": [
    "DATASET_FOLDER_PATH = '/Users/aref/dvs-dataset/DvsGesture'\n",
    "\n",
    "nb_image_height = 64\n",
    "nb_image_weight = 64\n",
    "nb_inputs  = nb_image_height*nb_image_weight\n",
    "nb_hidden  = 128 #256\n",
    "nb_outputs = 12\n",
    "\n",
    "time_step = 1e-3\n",
    "nb_steps  = 100\n",
    "\n",
    "batch_size = 16"
   ]
  },
  {
   "cell_type": "code",
   "execution_count": 3,
   "metadata": {},
   "outputs": [
    {
     "name": "stdout",
     "output_type": "stream",
     "text": [
      "using cpu...\n"
     ]
    }
   ],
   "source": [
    "dtype = torch.float\n",
    "\n",
    "# Check whether a GPU is available\n",
    "if torch.cuda.is_available():\n",
    "    print('using cuda...')\n",
    "    device = torch.device(\"cuda\")     \n",
    "else:\n",
    "    print('using cpu...')\n",
    "    device = torch.device(\"cpu\")"
   ]
  },
  {
   "cell_type": "code",
   "execution_count": 4,
   "metadata": {},
   "outputs": [],
   "source": [
    "# Load file list:\n",
    "train_trail_file = 'trials_to_train.txt'\n",
    "test_trail_file = 'trials_to_test.txt'\n",
    "\n",
    "def load_trail_files(trail_file):\n",
    "    file_list = []\n",
    "    with open(os.path.join(DATASET_FOLDER_PATH, trail_file), 'r') as f:\n",
    "        for line in f.readlines():\n",
    "            aedat_file = line.strip()\n",
    "            if not line:\n",
    "                continue\n",
    "            csv_file = aedat_file.replace('.aedat', '_labels.csv')\n",
    "            file_list.append((\n",
    "                os.path.join(DATASET_FOLDER_PATH, aedat_file),\n",
    "                os.path.join(DATASET_FOLDER_PATH, csv_file)\n",
    "            ))\n",
    "    return file_list\n",
    "\n",
    "file_list_train = load_trail_files(train_trail_file)\n",
    "file_list_test = load_trail_files(test_trail_file)\n",
    "\n",
    "def get_label(event_labels, timestamp):\n",
    "    for t in event_labels.keys():\n",
    "        if t > timestamp:\n",
    "            return event_labels[t]\n",
    "    return 0\n",
    "\n",
    "def get_label_text(event_labels, timestamp):\n",
    "    return gesture_mapping[get_label(event_labels, timestamp)]\n",
    "\n",
    "# mapping\n",
    "gesture_mapping = {\n",
    "    0: 'no_gesture',\n",
    "    1: 'hand_clapping',\n",
    "    2: 'right_hand_wave',\n",
    "    3: 'left_hand_wave',\n",
    "    4: 'right_arm_clockwise',\n",
    "    5: 'right_arm_counter_clockwise',\n",
    "    6: 'left_arm_clockwise',\n",
    "    7: 'left_arm_counter_clockwise',\n",
    "    8: 'arm_roll',\n",
    "    9: 'air_drums',\n",
    "    10: 'air_guitar',\n",
    "    11: 'other_gestures',\n",
    "}"
   ]
  },
  {
   "cell_type": "code",
   "execution_count": 5,
   "metadata": {},
   "outputs": [],
   "source": [
    "from reader import read_file_all\n",
    "from collections import OrderedDict\n",
    "\n",
    "def read_event_labels(path):\n",
    "    label_began_time = None\n",
    "    event_labels = OrderedDict()\n",
    "    with open(path, 'r') as f:\n",
    "        for line in f.readlines():\n",
    "            label, start, end = line.strip().split(',')\n",
    "#             print '%5s\\t%15s\\t%15s' % (label, start, end)\n",
    "            try:\n",
    "                label = int(label)\n",
    "                start = int(start)\n",
    "                end = int(end)\n",
    "            except ValueError:\n",
    "                continue\n",
    "            if label_began_time is None:\n",
    "                label_began_time = start\n",
    "\n",
    "            event_labels[start] = 0\n",
    "            event_labels[end] = label\n",
    "    return event_labels, label_began_time\n",
    "\n",
    "\n",
    "def cache_trail_set_from_file_list(trail, file_list):\n",
    "    counter = 0\n",
    "    for file_name_set in file_list:\n",
    "        x_train = np.zeros([0, 100, nb_inputs])\n",
    "        y_train = []\n",
    "        counter += 1\n",
    "        print '%d out of %d ----------------------------------------------------------' % (counter, len(file_list))\n",
    "        print '    reading \"%s\"' % file_name_set[0]\n",
    "        event_labels, label_began_time = read_event_labels(file_name_set[1])\n",
    "        event_list = read_file_all(file_name_set[0])\n",
    "\n",
    "        print('    processing file')\n",
    "        img = np.zeros([nb_image_weight, nb_image_height])\n",
    "\n",
    "        max_time = None\n",
    "        min_time = None\n",
    "        begin_time = None\n",
    "        end_time = None\n",
    "\n",
    "        prev_label = None\n",
    "        frame_counter = 0\n",
    "        x_frame = np.zeros([1, 100, nb_inputs])\n",
    "        for e in event_list:\n",
    "            if e != 'clear':\n",
    "                img[int(e['y']/2), int(e['x']/2)] = 1 # if e['polarity'] == 1 else 0\n",
    "                if e['timestamp'] < min_time or min_time is None:\n",
    "                    min_time = e['timestamp']\n",
    "                if e['timestamp'] > max_time or max_time is None:\n",
    "                    max_time = e['timestamp']\n",
    "            else:\n",
    "                if begin_time is None:\n",
    "                    begin_time = min_time\n",
    "                end_time = max_time\n",
    "                mean_time = (max_time + min_time)/2\n",
    "                mean_time = mean_time - begin_time + label_began_time\n",
    "                label = get_label(event_labels, mean_time)\n",
    "                max_time = None\n",
    "                min_time = None\n",
    "                if prev_label is None:\n",
    "                    prev_label = label\n",
    "                elif prev_label != label:\n",
    "                    prev_label = None\n",
    "                    x_frame = np.zeros([1, 100, nb_inputs])\n",
    "                    img = np.zeros([nb_image_weight, nb_image_height])\n",
    "                    frame_counter = 0\n",
    "                    continue\n",
    "\n",
    "                if frame_counter == 100:\n",
    "                    y_train.append(label)\n",
    "                    x_train = np.append(x_train, x_frame, axis=0)\n",
    "                    x_frame = np.zeros([1, 100, nb_inputs])\n",
    "                    frame_counter = 0\n",
    "                else:\n",
    "                    x_frame[0, frame_counter, :] = img.flatten()\n",
    "                    frame_counter += 1\n",
    "                img = np.zeros([nb_image_weight, nb_image_height])\n",
    "\n",
    "        y_train = np.array(y_train)\n",
    "        print '    ', x_train.shape, ' ~> ', y_train.shape\n",
    "        np.save(file=\"x_%s_cache_%d\" % (trail, counter), arr=x_train)\n",
    "        np.save(file=\"y_%s_cache_%d\" % (trail, counter), arr=y_train)\n",
    "        print '    saved!'\n",
    "        \n",
    "# cache_trail_set_from_file_list('train', file_list_train)\n",
    "# cache_trail_set_from_file_list('test', file_list_test)"
   ]
  },
  {
   "cell_type": "code",
   "execution_count": 6,
   "metadata": {},
   "outputs": [],
   "source": [
    "def from_cache_generator(train_set=True):\n",
    "    counter = 0\n",
    "    file_list = file_list_train if train_set else file_list_test\n",
    "    for file_name_set in file_list:\n",
    "        counter += 1\n",
    "        x_train = np.load(file=\"cache/x_train_cache_%d.npy\" % counter)\n",
    "        y_train = np.load(file=\"cache/y_train_cache_%d.npy\" % counter)\n",
    "        yield x_train, y_train"
   ]
  },
  {
   "cell_type": "code",
   "execution_count": 7,
   "metadata": {},
   "outputs": [],
   "source": [
    "tau_mem = 10e-3\n",
    "tau_syn = 5e-3\n",
    "\n",
    "alpha   = float(np.exp(-time_step/tau_syn))\n",
    "beta    = float(np.exp(-time_step/tau_mem))"
   ]
  },
  {
   "cell_type": "code",
   "execution_count": 8,
   "metadata": {},
   "outputs": [
    {
     "name": "stdout",
     "output_type": "stream",
     "text": [
      "init\n"
     ]
    }
   ],
   "source": [
    "weight_scale = 7*(1.0-beta) # this should give us some spikes to begin with\n",
    "\n",
    "w1 = torch.empty((nb_inputs+1, nb_hidden),  device=device, dtype=dtype, requires_grad=True)\n",
    "torch.nn.init.normal_(w1, mean=0.0, std=weight_scale/np.sqrt(nb_inputs))\n",
    "\n",
    "w2 = torch.empty((nb_hidden+1, nb_outputs), device=device, dtype=dtype, requires_grad=True)\n",
    "torch.nn.init.normal_(w2, mean=0.0, std=weight_scale/np.sqrt(nb_hidden))\n",
    "\n",
    "loss_hist = []\n",
    "\n",
    "print('init')"
   ]
  },
  {
   "cell_type": "code",
   "execution_count": 9,
   "metadata": {},
   "outputs": [],
   "source": [
    "class SuperSpike(torch.autograd.Function):\n",
    "    scale = 50.0 # controls steepness of surrogate gradient\n",
    "\n",
    "    @staticmethod\n",
    "    def forward(ctx, input):\n",
    "        ctx.save_for_backward(input)\n",
    "        out = torch.zeros_like(input)\n",
    "        out[input > 0] = 1.0\n",
    "        return out\n",
    "\n",
    "    @staticmethod\n",
    "    def backward(ctx, grad_output):\n",
    "        input, = ctx.saved_tensors\n",
    "        grad_input = grad_output.clone()\n",
    "        return grad_input/(SuperSpike.scale*torch.abs(input)+1.0)**2\n",
    "#         return grad_input\n",
    "    \n",
    "spike_fn  = SuperSpike.apply"
   ]
  },
  {
   "cell_type": "code",
   "execution_count": 10,
   "metadata": {},
   "outputs": [],
   "source": [
    "def run_snn(inputs):\n",
    "    h1 = torch.einsum(\"abc,cd->abd\", (inputs, w1[:-1, :]))\n",
    "    hr = torch.zeros((batch_size,nb_hidden), device=device, dtype=dtype)\n",
    "    syn = torch.zeros((batch_size,nb_hidden), device=device, dtype=dtype)\n",
    "    mem = torch.zeros((batch_size,nb_hidden), device=device, dtype=dtype)\n",
    "\n",
    "    mem_rec = [mem]\n",
    "    spk_rec = [mem]\n",
    "\n",
    "    # Compute hidden layer activity\n",
    "    for t in range(nb_steps):\n",
    "        mthr = mem-1.0\n",
    "        out = spike_fn(mthr)\n",
    "        rst = torch.zeros_like(mem)\n",
    "        c   = (mthr > 0)\n",
    "        rst[c] = torch.ones_like(mem)[c]\n",
    "       \n",
    "        rs =  torch.ones_like(mem)\n",
    "        for i in range(batch_size):\n",
    "            rs[i,:] = w1[-1, :]\n",
    "        rs[mthr <= 0] = 0\n",
    "        \n",
    "        new_syn = alpha*syn +h1[:,t] +rs\n",
    "        new_mem = beta*mem +syn -rst\n",
    "\n",
    "        mem = new_mem\n",
    "        syn = new_syn\n",
    "\n",
    "        mem_rec.append(mem)\n",
    "        spk_rec.append(out)\n",
    "\n",
    "    mem_rec = torch.stack(mem_rec,dim=1)\n",
    "    spk_rec = torch.stack(spk_rec,dim=1)\n",
    "\n",
    "    # Readout layer\n",
    "    h2= torch.einsum(\"abc,cd->abd\", (spk_rec, w2[:-1, :]))\n",
    "    flt = torch.zeros((batch_size,nb_outputs), device=device, dtype=dtype)\n",
    "    out = torch.zeros((batch_size,nb_outputs), device=device, dtype=dtype)\n",
    "    out_rec = [out]\n",
    "    for t in range(nb_steps):\n",
    "        rs = torch.ones_like(out)\n",
    "        for i in range(batch_size):\n",
    "            rs[i,:] = w2[-1, :]\n",
    "        rs[out <= 0] = 0\n",
    "        \n",
    "        new_flt = alpha*flt +h2[:,t] +rs\n",
    "        new_out = beta*out +flt\n",
    "\n",
    "        flt = new_flt\n",
    "        out = new_out\n",
    "\n",
    "        out_rec.append(out)\n",
    "\n",
    "    out_rec = torch.stack(out_rec,dim=1)\n",
    "    other_recs = [mem_rec, spk_rec]\n",
    "    return out_rec, other_recs"
   ]
  },
  {
   "cell_type": "code",
   "execution_count": 11,
   "metadata": {},
   "outputs": [],
   "source": [
    "def train(lr=2e-3, nb_epochs=10, loss_hist=None):\n",
    "    params = [w1,w2]\n",
    "    optimizer = torch.optim.Adam(params, lr=lr, betas=(0.9,0.999))\n",
    "\n",
    "    log_softmax_fn = nn.LogSoftmax(dim=1)\n",
    "    loss_fn = nn.NLLLoss()\n",
    "    \n",
    "    if loss_hist is None:\n",
    "        loss_hist = []\n",
    "    for e in range(nb_epochs):\n",
    "        print_counter = 0\n",
    "        local_loss = []\n",
    "        for x_data, y_data in from_cache_generator():\n",
    "            if print_counter % 4 == 0:\n",
    "                print '.',\n",
    "            print_counter += 1\n",
    "            \n",
    "            y_data = y_data.astype(np.long)\n",
    "            max_count = x_data.shape[0] / batch_size\n",
    "            for counter in range(max_count):\n",
    "                i = counter*batch_size\n",
    "                x_local = torch.from_numpy(x_data[i:i+batch_size, :, :]).type(dtype)\n",
    "                y_local = torch.from_numpy(y_data[i:i+batch_size])\n",
    "\n",
    "                if x_local.shape[0] != batch_size:\n",
    "                    continue\n",
    "                \n",
    "                output,_ = run_snn(x_local)\n",
    "                m,_=torch.max(output,1)\n",
    "                log_p_y = log_softmax_fn(m)\n",
    "                loss_val = loss_fn(log_p_y, y_local)\n",
    "\n",
    "                optimizer.zero_grad()\n",
    "                loss_val.backward()\n",
    "                optimizer.step()\n",
    "                local_loss.append(loss_val.item())\n",
    "        mean_loss = np.mean(local_loss)\n",
    "        print(\"Epoch %i: loss=%.5f\"%(e+1,mean_loss))\n",
    "        loss_hist.append(mean_loss)\n",
    "        \n",
    "    return loss_hist\n"
   ]
  },
  {
   "cell_type": "code",
   "execution_count": 12,
   "metadata": {},
   "outputs": [],
   "source": [
    "def compute_classification_accuracy(x_data, y_data):\n",
    "    \"\"\" Computes classification accuracy on supplied data in batches. \"\"\"\n",
    "    accs = []\n",
    "    max_count = len(x_data) / batch_size\n",
    "    for counter in range(max_count):\n",
    "        i = counter*batch_size\n",
    "        x_local = torch.from_numpy(x_data[i:i+batch_size, :, :]).type(dtype)\n",
    "        y_local = torch.from_numpy(y_data[i:i+batch_size])\n",
    "        output, _ = run_snn(x_local)\n",
    "        m, _ = torch.max(output,1) # max over time\n",
    "        _, am = torch.max(m,1)      # argmax over output units\n",
    "        tmp = np.mean((y_local.type(torch.long)==am).detach().cpu().numpy()) # compare to labels\n",
    "        accs.append(tmp)\n",
    "    return np.mean(accs)\n"
   ]
  },
  {
   "cell_type": "code",
   "execution_count": 13,
   "metadata": {},
   "outputs": [],
   "source": [
    "def print_accuracy_values():\n",
    "    errors = []\n",
    "    for x_data, y_data in from_cache_generator():\n",
    "        errors.append(compute_classification_accuracy(x_data, y_data))\n",
    "    print(\"Train accuracy: %.3f\" % (np.mean(np.array(errors))))\n",
    "\n",
    "    errors = []\n",
    "    for x_data, y_data in from_cache_generator(False):\n",
    "        errors.append(compute_classification_accuracy(x_data, y_data))\n",
    "    print(\"Test accuracy: %.3f\" % (np.mean(np.array(errors))))"
   ]
  },
  {
   "cell_type": "code",
   "execution_count": 21,
   "metadata": {},
   "outputs": [],
   "source": [
    "from time import time\n",
    "from datetime import datetime\n",
    "\n",
    "_last_time_length = None\n",
    "_iteration_left = None\n",
    "\n",
    "def expector_timer(func):\n",
    "    def wrapper(*args, **kwargs):\n",
    "        global _last_time_length, _iteration_left\n",
    "        t_start = time()\n",
    "        \n",
    "        if _last_time_length is not None:\n",
    "            expectation = t_start\n",
    "            if _iteration_left is not None:\n",
    "                expectation +=  _last_time_length * _iteration_left\n",
    "            else:\n",
    "                expectation +=  _last_time_length\n",
    "            datestr = datetime.fromtimestamp(expectation).strftime(\"%H:%M:%S\")\n",
    "            print '[expecting to finish at %s]' % datestr\n",
    "        res = func(*args, **kwargs)\n",
    "        length = time() - t_start\n",
    "        print '[operation took %ds]' % length\n",
    "        print '[operation finished at %s]' % datetime.fromtimestamp(time()).strftime(\"%H:%M:%S\")\n",
    "        \n",
    "        if _last_time_length is None:\n",
    "            _last_time_length = length\n",
    "        else:\n",
    "            _last_time_length = .9 * _last_time_length + .1 * length\n",
    "        return res\n",
    "    return wrapper"
   ]
  },
  {
   "cell_type": "code",
   "execution_count": 15,
   "metadata": {
    "scrolled": true
   },
   "outputs": [],
   "source": [
    "%matplotlib inline\n",
    "@expector_timer\n",
    "def train_once():\n",
    "    global loss_hist\n",
    "    loss_hist = train(lr=2e-4, nb_epochs=5, loss_hist=loss_hist)\n",
    "\n",
    "    plt.figure(figsize=(3.3,2),dpi=150)\n",
    "    plt.plot(loss_hist)\n",
    "    plt.xlabel(\"Epoch\")\n",
    "    plt.ylabel(\"Loss\")\n",
    "    plt.show()\n",
    "    sns.despine()\n",
    "    print_accuracy_values()\n",
    "    \n",
    "#     np.save(file=\"_checkpoint_%d\" % time(), arr=[w1, w2])\n",
    "    print('[check point saved.]')"
   ]
  },
  {
   "cell_type": "code",
   "execution_count": 16,
   "metadata": {},
   "outputs": [
    {
     "name": "stdout",
     "output_type": "stream",
     "text": [
      ". . . . . . . . . . . . . . . . . . . . . . . . . Epoch 1: loss=2.59586\n",
      ". . . . . . . . . . . . . . . . . . . . . . . . . Epoch 2: loss=2.31572\n",
      ". . . . . . . . . . . . . . . . . . . . . . . . . Epoch 3: loss=2.07615\n",
      ". . . . . . . . . . . . . . . . . . . . . . . . . Epoch 4: loss=1.99626\n",
      ". . . . . . . . . . . . . . . . . . . . . . . . . Epoch 5: loss=1.93361\n"
     ]
    },
    {
     "data": {
      "image/png": "[encoded data removed]",
      "text/plain": [
       "<Figure size 495x300 with 1 Axes>"
      ]
     },
     "metadata": {
      "needs_background": "light"
     },
     "output_type": "display_data"
    },
    {
     "name": "stdout",
     "output_type": "stream",
     "text": [
      "Train accuracy: 0.438\n",
      "Test accuracy: 0.457\n",
      "[check point saved.]\n",
      "[operation took 6262s]\n",
      "[operation finished at 16:07:56]\n"
     ]
    },
    {
     "data": {
      "text/plain": [
       "<Figure size 432x288 with 0 Axes>"
      ]
     },
     "metadata": {},
     "output_type": "display_data"
    }
   ],
   "source": [
    "max_epochs = 1#2*5\n",
    "for i in range(max_epochs):\n",
    "    _iteration_left = max_epochs - i \n",
    "    train_once()"
   ]
  },
  {
   "cell_type": "code",
   "execution_count": 23,
   "metadata": {},
   "outputs": [
    {
     "name": "stdout",
     "output_type": "stream",
     "text": [
      " . . . . . . . . . . . . . . . . . . . . . . . . . Epoch 1: loss=1.22454\n",
      ". . . . . . . . . . . . . . . . . . . . . . . . . Epoch 2: loss=1.17718\n",
      ". . . . . . . . . . . . . . . . . . . . . . . ."
     ]
    },
    {
     "ename": "KeyboardInterrupt",
     "evalue": "",
     "output_type": "error",
     "traceback": [
      "\u001b[0;31m---------------------------------------------------------------------------\u001b[0m",
      "\u001b[0;31mKeyboardInterrupt\u001b[0m                         Traceback (most recent call last)",
      "\u001b[0;32m<ipython-input-23-5f84db80940a>\u001b[0m in \u001b[0;36m<module>\u001b[0;34m()\u001b[0m\n\u001b[1;32m      3\u001b[0m \u001b[0;32mfor\u001b[0m \u001b[0mi\u001b[0m \u001b[0;32min\u001b[0m \u001b[0mrange\u001b[0m\u001b[0;34m(\u001b[0m\u001b[0mmax_epochs\u001b[0m\u001b[0;34m)\u001b[0m\u001b[0;34m:\u001b[0m\u001b[0;34m\u001b[0m\u001b[0m\n\u001b[1;32m      4\u001b[0m     \u001b[0m_iteration_left\u001b[0m \u001b[0;34m=\u001b[0m \u001b[0mmax_epochs\u001b[0m \u001b[0;34m-\u001b[0m \u001b[0mi\u001b[0m\u001b[0;34m\u001b[0m\u001b[0m\n\u001b[0;32m----> 5\u001b[0;31m     \u001b[0mtrain_once\u001b[0m\u001b[0;34m(\u001b[0m\u001b[0;34m)\u001b[0m\u001b[0;34m\u001b[0m\u001b[0m\n\u001b[0m",
      "\u001b[0;32m<ipython-input-14-134a17b1807d>\u001b[0m in \u001b[0;36mwrapper\u001b[0;34m(*args, **kwargs)\u001b[0m\n\u001b[1;32m     18\u001b[0m             \u001b[0mdatestr\u001b[0m \u001b[0;34m=\u001b[0m \u001b[0mdatetime\u001b[0m\u001b[0;34m.\u001b[0m\u001b[0mfromtimestamp\u001b[0m\u001b[0;34m(\u001b[0m\u001b[0mexpectation\u001b[0m\u001b[0;34m)\u001b[0m\u001b[0;34m.\u001b[0m\u001b[0mstrftime\u001b[0m\u001b[0;34m(\u001b[0m\u001b[0;34m\"%H:%M:%S\"\u001b[0m\u001b[0;34m)\u001b[0m\u001b[0;34m\u001b[0m\u001b[0m\n\u001b[1;32m     19\u001b[0m             \u001b[0;32mprint\u001b[0m \u001b[0;34m'[expecting to finish at %s]'\u001b[0m \u001b[0;34m%\u001b[0m \u001b[0mdatestr\u001b[0m\u001b[0;34m\u001b[0m\u001b[0m\n\u001b[0;32m---> 20\u001b[0;31m         \u001b[0mres\u001b[0m \u001b[0;34m=\u001b[0m \u001b[0mfunc\u001b[0m\u001b[0;34m(\u001b[0m\u001b[0;34m*\u001b[0m\u001b[0margs\u001b[0m\u001b[0;34m,\u001b[0m \u001b[0;34m**\u001b[0m\u001b[0mkwargs\u001b[0m\u001b[0;34m)\u001b[0m\u001b[0;34m\u001b[0m\u001b[0m\n\u001b[0m\u001b[1;32m     21\u001b[0m         \u001b[0mlength\u001b[0m \u001b[0;34m=\u001b[0m \u001b[0mtime\u001b[0m\u001b[0;34m(\u001b[0m\u001b[0;34m)\u001b[0m \u001b[0;34m-\u001b[0m \u001b[0mt_start\u001b[0m\u001b[0;34m\u001b[0m\u001b[0m\n\u001b[1;32m     22\u001b[0m         \u001b[0;32mprint\u001b[0m \u001b[0;34m'[operation took %ds]'\u001b[0m \u001b[0;34m%\u001b[0m \u001b[0mlength\u001b[0m\u001b[0;34m\u001b[0m\u001b[0m\n",
      "\u001b[0;32m<ipython-input-15-f15858a7e4e6>\u001b[0m in \u001b[0;36mtrain_once\u001b[0;34m()\u001b[0m\n\u001b[1;32m      3\u001b[0m \u001b[0;32mdef\u001b[0m \u001b[0mtrain_once\u001b[0m\u001b[0;34m(\u001b[0m\u001b[0;34m)\u001b[0m\u001b[0;34m:\u001b[0m\u001b[0;34m\u001b[0m\u001b[0m\n\u001b[1;32m      4\u001b[0m     \u001b[0;32mglobal\u001b[0m \u001b[0mloss_hist\u001b[0m\u001b[0;34m\u001b[0m\u001b[0m\n\u001b[0;32m----> 5\u001b[0;31m     \u001b[0mloss_hist\u001b[0m \u001b[0;34m=\u001b[0m \u001b[0mtrain\u001b[0m\u001b[0;34m(\u001b[0m\u001b[0mlr\u001b[0m\u001b[0;34m=\u001b[0m\u001b[0;36m2e-4\u001b[0m\u001b[0;34m,\u001b[0m \u001b[0mnb_epochs\u001b[0m\u001b[0;34m=\u001b[0m\u001b[0;36m5\u001b[0m\u001b[0;34m,\u001b[0m \u001b[0mloss_hist\u001b[0m\u001b[0;34m=\u001b[0m\u001b[0mloss_hist\u001b[0m\u001b[0;34m)\u001b[0m\u001b[0;34m\u001b[0m\u001b[0m\n\u001b[0m\u001b[1;32m      6\u001b[0m \u001b[0;34m\u001b[0m\u001b[0m\n\u001b[1;32m      7\u001b[0m     \u001b[0mplt\u001b[0m\u001b[0;34m.\u001b[0m\u001b[0mfigure\u001b[0m\u001b[0;34m(\u001b[0m\u001b[0mfigsize\u001b[0m\u001b[0;34m=\u001b[0m\u001b[0;34m(\u001b[0m\u001b[0;36m3.3\u001b[0m\u001b[0;34m,\u001b[0m\u001b[0;36m2\u001b[0m\u001b[0;34m)\u001b[0m\u001b[0;34m,\u001b[0m\u001b[0mdpi\u001b[0m\u001b[0;34m=\u001b[0m\u001b[0;36m150\u001b[0m\u001b[0;34m)\u001b[0m\u001b[0;34m\u001b[0m\u001b[0m\n",
      "\u001b[0;32m<ipython-input-11-ba842b2e7508>\u001b[0m in \u001b[0;36mtrain\u001b[0;34m(lr, nb_epochs, loss_hist)\u001b[0m\n\u001b[1;32m     11\u001b[0m         \u001b[0mprint_counter\u001b[0m \u001b[0;34m=\u001b[0m \u001b[0;36m0\u001b[0m\u001b[0;34m\u001b[0m\u001b[0m\n\u001b[1;32m     12\u001b[0m         \u001b[0mlocal_loss\u001b[0m \u001b[0;34m=\u001b[0m \u001b[0;34m[\u001b[0m\u001b[0;34m]\u001b[0m\u001b[0;34m\u001b[0m\u001b[0m\n\u001b[0;32m---> 13\u001b[0;31m         \u001b[0;32mfor\u001b[0m \u001b[0mx_data\u001b[0m\u001b[0;34m,\u001b[0m \u001b[0my_data\u001b[0m \u001b[0;32min\u001b[0m \u001b[0mfrom_cache_generator\u001b[0m\u001b[0;34m(\u001b[0m\u001b[0;34m)\u001b[0m\u001b[0;34m:\u001b[0m\u001b[0;34m\u001b[0m\u001b[0m\n\u001b[0m\u001b[1;32m     14\u001b[0m             \u001b[0;32mif\u001b[0m \u001b[0mprint_counter\u001b[0m \u001b[0;34m%\u001b[0m \u001b[0;36m4\u001b[0m \u001b[0;34m==\u001b[0m \u001b[0;36m0\u001b[0m\u001b[0;34m:\u001b[0m\u001b[0;34m\u001b[0m\u001b[0m\n\u001b[1;32m     15\u001b[0m                 \u001b[0;32mprint\u001b[0m \u001b[0;34m'.'\u001b[0m\u001b[0;34m,\u001b[0m\u001b[0;34m\u001b[0m\u001b[0m\n",
      "\u001b[0;32m<ipython-input-6-5c9a3e03f570>\u001b[0m in \u001b[0;36mfrom_cache_generator\u001b[0;34m(train_set)\u001b[0m\n\u001b[1;32m      4\u001b[0m     \u001b[0;32mfor\u001b[0m \u001b[0mfile_name_set\u001b[0m \u001b[0;32min\u001b[0m \u001b[0mfile_list\u001b[0m\u001b[0;34m:\u001b[0m\u001b[0;34m\u001b[0m\u001b[0m\n\u001b[1;32m      5\u001b[0m         \u001b[0mcounter\u001b[0m \u001b[0;34m+=\u001b[0m \u001b[0;36m1\u001b[0m\u001b[0;34m\u001b[0m\u001b[0m\n\u001b[0;32m----> 6\u001b[0;31m         \u001b[0mx_train\u001b[0m \u001b[0;34m=\u001b[0m \u001b[0mnp\u001b[0m\u001b[0;34m.\u001b[0m\u001b[0mload\u001b[0m\u001b[0;34m(\u001b[0m\u001b[0mfile\u001b[0m\u001b[0;34m=\u001b[0m\u001b[0;34m\"cache/x_train_cache_%d.npy\"\u001b[0m \u001b[0;34m%\u001b[0m \u001b[0mcounter\u001b[0m\u001b[0;34m)\u001b[0m\u001b[0;34m\u001b[0m\u001b[0m\n\u001b[0m\u001b[1;32m      7\u001b[0m         \u001b[0my_train\u001b[0m \u001b[0;34m=\u001b[0m \u001b[0mnp\u001b[0m\u001b[0;34m.\u001b[0m\u001b[0mload\u001b[0m\u001b[0;34m(\u001b[0m\u001b[0mfile\u001b[0m\u001b[0;34m=\u001b[0m\u001b[0;34m\"cache/y_train_cache_%d.npy\"\u001b[0m \u001b[0;34m%\u001b[0m \u001b[0mcounter\u001b[0m\u001b[0;34m)\u001b[0m\u001b[0;34m\u001b[0m\u001b[0m\n\u001b[1;32m      8\u001b[0m         \u001b[0;32myield\u001b[0m \u001b[0mx_train\u001b[0m\u001b[0;34m,\u001b[0m \u001b[0my_train\u001b[0m\u001b[0;34m\u001b[0m\u001b[0m\n",
      "\u001b[0;32m/usr/local/lib/python2.7/site-packages/numpy/lib/npyio.pyc\u001b[0m in \u001b[0;36mload\u001b[0;34m(file, mmap_mode, allow_pickle, fix_imports, encoding)\u001b[0m\n\u001b[1;32m    431\u001b[0m             \u001b[0;32melse\u001b[0m\u001b[0;34m:\u001b[0m\u001b[0;34m\u001b[0m\u001b[0m\n\u001b[1;32m    432\u001b[0m                 return format.read_array(fid, allow_pickle=allow_pickle,\n\u001b[0;32m--> 433\u001b[0;31m                                          pickle_kwargs=pickle_kwargs)\n\u001b[0m\u001b[1;32m    434\u001b[0m         \u001b[0;32melse\u001b[0m\u001b[0;34m:\u001b[0m\u001b[0;34m\u001b[0m\u001b[0m\n\u001b[1;32m    435\u001b[0m             \u001b[0;31m# Try a pickle\u001b[0m\u001b[0;34m\u001b[0m\u001b[0;34m\u001b[0m\u001b[0m\n",
      "\u001b[0;32m/usr/local/lib/python2.7/site-packages/numpy/lib/format.pyc\u001b[0m in \u001b[0;36mread_array\u001b[0;34m(fp, allow_pickle, pickle_kwargs)\u001b[0m\n\u001b[1;32m    666\u001b[0m         \u001b[0;32mif\u001b[0m \u001b[0misfileobj\u001b[0m\u001b[0;34m(\u001b[0m\u001b[0mfp\u001b[0m\u001b[0;34m)\u001b[0m\u001b[0;34m:\u001b[0m\u001b[0;34m\u001b[0m\u001b[0m\n\u001b[1;32m    667\u001b[0m             \u001b[0;31m# We can use the fast fromfile() function.\u001b[0m\u001b[0;34m\u001b[0m\u001b[0;34m\u001b[0m\u001b[0m\n\u001b[0;32m--> 668\u001b[0;31m             \u001b[0marray\u001b[0m \u001b[0;34m=\u001b[0m \u001b[0mnumpy\u001b[0m\u001b[0;34m.\u001b[0m\u001b[0mfromfile\u001b[0m\u001b[0;34m(\u001b[0m\u001b[0mfp\u001b[0m\u001b[0;34m,\u001b[0m \u001b[0mdtype\u001b[0m\u001b[0;34m=\u001b[0m\u001b[0mdtype\u001b[0m\u001b[0;34m,\u001b[0m \u001b[0mcount\u001b[0m\u001b[0;34m=\u001b[0m\u001b[0mcount\u001b[0m\u001b[0;34m)\u001b[0m\u001b[0;34m\u001b[0m\u001b[0m\n\u001b[0m\u001b[1;32m    669\u001b[0m         \u001b[0;32melse\u001b[0m\u001b[0;34m:\u001b[0m\u001b[0;34m\u001b[0m\u001b[0m\n\u001b[1;32m    670\u001b[0m             \u001b[0;31m# This is not a real file. We have to read it the\u001b[0m\u001b[0;34m\u001b[0m\u001b[0;34m\u001b[0m\u001b[0m\n",
      "\u001b[0;31mKeyboardInterrupt\u001b[0m: "
     ]
    }
   ],
   "source": [
    "# 1+1+5\n",
    "max_epochs = 5\n",
    "for i in range(max_epochs):\n",
    "    _iteration_left = max_epochs - i \n",
    "    train_once()"
   ]
  },
  {
   "cell_type": "code",
   "execution_count": null,
   "metadata": {},
   "outputs": [],
   "source": []
  }
 ],
 "metadata": {
  "kernelspec": {
   "display_name": "Python 2",
   "language": "python",
   "name": "python2"
  },
  "language_info": {
   "codemirror_mode": {
    "name": "ipython",
    "version": 2
   },
   "file_extension": ".py",
   "mimetype": "text/x-python",
   "name": "python",
   "nbconvert_exporter": "python",
   "pygments_lexer": "ipython2",
   "version": "2.7.16"
  }
 },
 "nbformat": 4,
 "nbformat_minor": 2
}
