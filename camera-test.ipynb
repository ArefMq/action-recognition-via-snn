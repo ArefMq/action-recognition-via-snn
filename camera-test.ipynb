{
 "cells": [
  {
   "cell_type": "code",
   "execution_count": 2,
   "metadata": {},
   "outputs": [],
   "source": [
    "import cv2\n",
    "import numpy as np\n",
    "import matplotlib.pyplot as plt"
   ]
  },
  {
   "cell_type": "code",
   "execution_count": 9,
   "metadata": {},
   "outputs": [
    {
     "name": "stdout",
     "output_type": "stream",
     "text": [
      "frame finished\n"
     ]
    }
   ],
   "source": [
    "%matplotlib qt\n",
    "\n",
    "cv2.namedWindow(\"preview\")\n",
    "vc = cv2.VideoCapture(0)\n",
    "\n",
    "\n",
    "global img_diff\n",
    "def diffx(img0, img1):\n",
    "    global img_diff\n",
    "    img_diff =  img1.astype(int) - img0.astype(int)\n",
    "    img_diff[np.abs(img_diff) < 80] = 0\n",
    "    img_diff = np.sign(img_diff) * 120 + 127\n",
    "    \n",
    "    img_diff = img_diff.astype('uint8')\n",
    "    plt.subplot(1, 2, 2)\n",
    "    plt.imshow(img_diff, cmap='gray', vmin=0, vmax=255)\n",
    "    plt.subplot(1, 2, 1)\n",
    "    plt.imshow(img1, cmap='gray', vmin=0, vmax=255)\n",
    "    plt.show()\n",
    "    plt.pause(0.01)\n",
    "#     cv2.imshow(\"preview\", cv2.resize(img_diff, (512, 512)))\n",
    "    return img_diff\n",
    "\n",
    "\n",
    "frame_counter = 15\n",
    "try:\n",
    "    prev_frame = None\n",
    "    while True:\n",
    "        rval, frame = vc.read()\n",
    "        \n",
    "        if frame_counter <= 0:\n",
    "            print 'frame finished'\n",
    "            break\n",
    "        else:\n",
    "            frame_counter -= 1\n",
    "\n",
    "        if frame is None:\n",
    "            continue\n",
    "\n",
    "        frame = cv2.cvtColor(frame, cv2.COLOR_BGR2GRAY)\n",
    "        frame = cv2.resize(frame,(256, 144))[16:, 128:]\n",
    "        if prev_frame is not None:\n",
    "            diffx(prev_frame, frame)\n",
    "\n",
    "#         if cv2.waitKey(1) & 0xFF == ord('q'):\n",
    "#             break\n",
    "\n",
    "        prev_frame = frame\n",
    "finally:\n",
    "    vc.release()\n",
    "    cv2.destroyAllWindows()"
   ]
  },
  {
   "cell_type": "code",
   "execution_count": null,
   "metadata": {},
   "outputs": [],
   "source": []
  }
 ],
 "metadata": {
  "kernelspec": {
   "display_name": "Python 2",
   "language": "python",
   "name": "python2"
  },
  "language_info": {
   "codemirror_mode": {
    "name": "ipython",
    "version": 2
   },
   "file_extension": ".py",
   "mimetype": "text/x-python",
   "name": "python",
   "nbconvert_exporter": "python",
   "pygments_lexer": "ipython2",
   "version": "2.7.15"
  }
 },
 "nbformat": 4,
 "nbformat_minor": 2
}
