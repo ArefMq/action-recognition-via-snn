{
 "cells": [
  {
   "cell_type": "code",
   "execution_count": null,
   "metadata": {
    "colab": {
     "base_uri": "https://localhost:8080/",
     "height": 80
    },
    "colab_type": "code",
    "id": "rVrLs7DX75QZ",
    "outputId": "6d61a0d4-c8c4-471a-d901-01200d9a259c"
   },
   "outputs": [],
   "source": [
    "import numpy as np\n",
    "import matplotlib.pyplot as plt\n",
    "import pandas as pd\n",
    "from keras.models import Sequential\n",
    "from keras.layers import Dense, LSTM, Conv2D, MaxPooling2D, Flatten, TimeDistributed\n",
    "from keras.utils import to_categorical\n",
    "\n",
    "from sys import stdout\n",
    "import os"
   ]
  },
  {
   "cell_type": "code",
   "execution_count": 0,
   "metadata": {
    "colab": {
     "base_uri": "https://localhost:8080/",
     "height": 122
    },
    "colab_type": "code",
    "id": "qMCPTCLo8wKZ",
    "outputId": "fbfbc284-8753-4c31-87eb-f690a12c35b7"
   },
   "outputs": [
    {
     "name": "stdout",
     "output_type": "stream",
     "text": [
      "Go to this URL in a browser: https://accounts.google.com/o/oauth2/auth?client_id=947318989803-6bn6qk8qdgf4n4g3pfee6491hc0brc4i.apps.googleusercontent.com&redirect_uri=urn%3aietf%3awg%3aoauth%3a2.0%3aoob&response_type=code&scope=email%20https%3a%2f%2fwww.googleapis.com%2fauth%2fdocs.test%20https%3a%2f%2fwww.googleapis.com%2fauth%2fdrive%20https%3a%2f%2fwww.googleapis.com%2fauth%2fdrive.photos.readonly%20https%3a%2f%2fwww.googleapis.com%2fauth%2fpeopleapi.readonly\n",
      "\n",
      "Enter your authorization code:\n",
      "··········\n",
      "Mounted at /content/drive\n"
     ]
    }
   ],
   "source": [
    "!pip install -U -q PyDrive\n",
    "from pydrive.auth import GoogleAuth\n",
    "from pydrive.drive import GoogleDrive\n",
    "from google.colab import auth\n",
    "from oauth2client.client import GoogleCredentials\n",
    "# Authenticate and create the PyDrive client.\n",
    "auth.authenticate_user()\n",
    "gauth = GoogleAuth()\n",
    "gauth.credentials = GoogleCredentials.get_application_default()\n",
    "drive = GoogleDrive(gauth)\n",
    "\n",
    "from google.colab import drive\n",
    "drive.mount('/content/drive')\n",
    "CACHE_FOLDER_PATH = \"/content/drive/My Drive/ColabCodes/dvs_data/\"\n",
    "DATASET_FOLDER_PATH = \"/content/drive/My Drive/ColabCodes/dvs_data/\"\n",
    "\n",
    "if not os.path.exists(DATASET_FOLDER_PATH):\n",
    "    raise Exception('can not access data folder.')"
   ]
  },
  {
   "cell_type": "code",
   "execution_count": 0,
   "metadata": {
    "colab": {},
    "colab_type": "code",
    "id": "jQPo5bjv77oU"
   },
   "outputs": [],
   "source": [
    "\n",
    "nb_image_height = 64\n",
    "nb_image_width  = 64\n",
    "nb_inputs  = nb_image_height*nb_image_width\n",
    "\n",
    "time_step = 1e-3\n",
    "nb_steps  = 100\n",
    "batch_size = 128\n",
    "nb_epochs = 20\n",
    "nb_labels = len(GESTURE_MAPPING)\n",
    "\n",
    "tx = TimeExpector()"
   ]
  },
  {
   "cell_type": "code",
   "execution_count": 0,
   "metadata": {
    "colab": {},
    "colab_type": "code",
    "id": "Ox3lpp4m79R2"
   },
   "outputs": [],
   "source": [
    "def load_data(trail):\n",
    "    if trail.startswith('acc'):\n",
    "        max_augmentation = 1\n",
    "        augmentation = False\n",
    "    else:\n",
    "        max_augmentation = 3 if trail == 'train' else 1\n",
    "        augmentation = True\n",
    "    \n",
    "    trail = trail.replace('acc_', '')\n",
    "    return batchify(\n",
    "        trail,\n",
    "        DATASET_FOLDER_PATH,\n",
    "        CACHE_FOLDER_PATH,\n",
    "        condition_limit=['natural'],\n",
    "        batch_size=batch_size,\n",
    "        augmentation=augmentation,\n",
    "        max_augmentation=max_augmentation\n",
    "    )"
   ]
  },
  {
   "cell_type": "code",
   "execution_count": 0,
   "metadata": {
    "colab": {},
    "colab_type": "code",
    "id": "Lez01oY97-01"
   },
   "outputs": [],
   "source": [
    "def prog_print(items, max_items):\n",
    "    percentage = 100*items/max_items\n",
    "    items = int(items)\n",
    "    max_items = int(max_items)\n",
    "    \n",
    "    stdout.write('\\r')\n",
    "    stdout.write('  %.2f%%' % percentage)\n",
    "    stdout.write('  [=')\n",
    "    if items < max_items:\n",
    "        stdout.write('=' * (items-1))\n",
    "        stdout.write('>')\n",
    "        stdout.write('.' * (max_items - items))\n",
    "    else:\n",
    "        stdout.write('=' * (items))\n",
    "    stdout.write(']  ')\n",
    "    stdout.flush()"
   ]
  },
  {
   "cell_type": "code",
   "execution_count": null,
   "metadata": {
    "colab": {
     "base_uri": "https://localhost:8080/",
     "height": 309
    },
    "colab_type": "code",
    "id": "7EPTEfDv8AHN",
    "outputId": "ddfacb93-9c59-4581-83b9-fcb2e32c3188"
   },
   "outputs": [],
   "source": [
    "keras_batch_size = 16\n",
    "model = Sequential()\n",
    "\n",
    "model.add(TimeDistributed(Conv2D(32, (3, 3), activation='relu'),\n",
    "                          input_shape=(None, 64, 64, 1),\n",
    "                          batch_size=keras_batch_size\n",
    "                         ))\n",
    "\n",
    "model.add(TimeDistributed(MaxPooling2D((2, 2))))\n",
    "\n",
    "# model.add(TimeDistributed(Conv2D(64, (3, 3), activation='relu')))\n",
    "# model.add(TimeDistributed(MaxPooling2D((2, 2))))\n",
    "\n",
    "# model.add(TimeDistributed(Conv2D(64, (3, 3), activation='relu')))\n",
    "# model.add(TimeDistributed(MaxPooling2D((2, 2))))\n",
    "\n",
    "model.add(TimeDistributed(Flatten()))\n",
    "\n",
    "model.add(LSTM(64,\n",
    "          batch_size=keras_batch_size,\n",
    "          stateful=True))\n",
    "\n",
    "model.add(Dense(nb_labels, activation='softmax'))\n",
    "# model.compile(loss='mse', optimizer='adam', metrics=['accuracy'])\n",
    "model.compile(loss='binary_crossentropy', optimizer='adam', metrics=['accuracy'])\n",
    "\n",
    "\n",
    "\n",
    "# model.add(TimeDistributedConvolution2D(32, 5, 5, border_mode='same', input_shape=(nb_steps, 64, 64)))\n",
    "# model.add(TimeDistributedMaxPooling2D(pool_size=(2, 2)))\n",
    "# model.add(Activation('relu'))\n",
    "\n",
    "# model.add(TimeDistributedFlatten())\n",
    "# model.add(LSTM(256, return_sequences=True))\n",
    "\n",
    "# model.add(Dense(nb_labels))\n",
    "# model.add(Activation('softmax'))\n",
    "# model.compile(loss='mse', optimizer='adam')"
   ]
  },
  {
   "cell_type": "code",
   "execution_count": 0,
   "metadata": {
    "colab": {
     "base_uri": "https://localhost:8080/",
     "height": 1000
    },
    "colab_type": "code",
    "id": "_k016JYm8Bie",
    "outputId": "6af9b2d7-a2d3-4d9b-cfd5-dcd77045540d",
    "scrolled": false
   },
   "outputs": [
    {
     "name": "stdout",
     "output_type": "stream",
     "text": [
      "ℹ️ *A-RNN* has started\n",
      "Epoch 1/20\n",
      "  0.00%  [=>.......................................................]  "
     ]
    },
    {
     "name": "stderr",
     "output_type": "stream",
     "text": [
      "W0126 10:58:41.669579 140412786685824 module_wrapper.py:139] From /usr/local/lib/python2.7/dist-packages/keras/backend/tensorflow_backend.py:986: The name tf.assign_add is deprecated. Please use tf.compat.v1.assign_add instead.\n",
      "\n",
      "W0126 10:58:41.750881 140412786685824 module_wrapper.py:139] From /usr/local/lib/python2.7/dist-packages/keras/backend/tensorflow_backend.py:973: The name tf.assign is deprecated. Please use tf.compat.v1.assign instead.\n",
      "\n",
      "W0126 10:58:41.816402 140412786685824 module_wrapper.py:139] From /usr/local/lib/python2.7/dist-packages/keras/backend/tensorflow_backend.py:2741: The name tf.Session is deprecated. Please use tf.compat.v1.Session instead.\n",
      "\n",
      "W0126 10:58:41.824421 140412786685824 module_wrapper.py:139] From /usr/local/lib/python2.7/dist-packages/keras/backend/tensorflow_backend.py:174: The name tf.get_default_session is deprecated. Please use tf.compat.v1.get_default_session instead.\n",
      "\n",
      "W0126 10:58:41.825232 140412786685824 module_wrapper.py:139] From /usr/local/lib/python2.7/dist-packages/keras/backend/tensorflow_backend.py:181: The name tf.ConfigProto is deprecated. Please use tf.compat.v1.ConfigProto instead.\n",
      "\n",
      "W0126 10:58:43.270040 140412786685824 module_wrapper.py:139] From /usr/local/lib/python2.7/dist-packages/keras/backend/tensorflow_backend.py:190: The name tf.global_variables is deprecated. Please use tf.compat.v1.global_variables instead.\n",
      "\n",
      "W0126 10:58:43.271142 140412786685824 module_wrapper.py:139] From /usr/local/lib/python2.7/dist-packages/keras/backend/tensorflow_backend.py:199: The name tf.is_variable_initialized is deprecated. Please use tf.compat.v1.is_variable_initialized instead.\n",
      "\n",
      "W0126 10:58:43.437778 140412786685824 module_wrapper.py:139] From /usr/local/lib/python2.7/dist-packages/keras/backend/tensorflow_backend.py:206: The name tf.variables_initializer is deprecated. Please use tf.compat.v1.variables_initializer instead.\n",
      "\n"
     ]
    },
    {
     "name": "stdout",
     "output_type": "stream",
     "text": [
      "  25.09%  [=============>..........................................]  - loss (train=0.13815 , test=0.17776)\n",
      "[operation finished at 2020-01-26 11:07:08  -  took 8 minutes]\n",
      "[expecting to finish at 2020-01-26 13:49:43]\n",
      "Epoch 2/20\n",
      "  25.09%  [=============>..........................................]  - loss (train=0.10884 , test=0.15974)\n",
      "[operation finished at 2020-01-26 11:15:09  -  took 8 minutes]\n",
      "[expecting to finish at 2020-01-26 13:48:13]\n",
      "Epoch 3/20\n",
      "  25.09%  [=============>..........................................]  - loss (train=0.11261 , test=0.15096)\n",
      "[operation finished at 2020-01-26 11:23:10  -  took 8 minutes]\n",
      "[expecting to finish at 2020-01-26 13:46:54]\n",
      "Epoch 4/20\n",
      "  25.09%  [=============>..........................................]  - loss (train=0.09078 , test=0.19874)\n",
      "[operation finished at 2020-01-26 11:31:13  -  took 8 minutes]\n",
      "[expecting to finish at 2020-01-26 13:45:51]\n",
      "Epoch 5/20\n",
      "  25.09%  [=============>..........................................]  - loss (train=0.07853 , test=0.15776)\n",
      "[operation finished at 2020-01-26 11:39:14  -  took 8 minutes]\n",
      "[expecting to finish at 2020-01-26 13:44:51]\n",
      "Epoch 6/20\n",
      "  25.09%  [=============>..........................................]  - loss (train=0.07125 , test=0.15647)\n",
      "[operation finished at 2020-01-26 11:47:15  -  took 8 minutes]\n",
      "[expecting to finish at 2020-01-26 13:43:59]\n",
      "Epoch 7/20\n",
      "  25.09%  [=============>..........................................]  - loss (train=0.05887 , test=0.14417)\n",
      "[operation finished at 2020-01-26 11:55:16  -  took 8 minutes]\n",
      "[expecting to finish at 2020-01-26 13:43:16]\n",
      "Epoch 8/20\n",
      "  25.09%  [=============>..........................................]  - loss (train=0.10262 , test=0.12030)\n",
      "[operation finished at 2020-01-26 12:03:17  -  took 8 minutes]\n",
      "[expecting to finish at 2020-01-26 13:42:37]\n",
      "Epoch 9/20\n",
      "  25.09%  [=============>..........................................]  - loss (train=0.05637 , test=0.14504)\n",
      "[operation finished at 2020-01-26 12:11:18  -  took 8 minutes]\n",
      "[expecting to finish at 2020-01-26 13:42:03]\n",
      "Epoch 10/20\n",
      "  25.09%  [=============>..........................................]  - loss (train=0.05584 , test=0.13031)\n",
      "[operation finished at 2020-01-26 12:19:19  -  took 8 minutes]\n",
      "[expecting to finish at 2020-01-26 13:41:35]\n",
      "Epoch 11/20\n",
      "  25.09%  [=============>..........................................]  - loss (train=0.08029 , test=0.19134)\n",
      "[operation finished at 2020-01-26 12:27:19  -  took 8 minutes]\n",
      "[expecting to finish at 2020-01-26 13:41:09]\n",
      "Epoch 12/20\n",
      "  25.09%  [=============>..........................................]  - loss (train=0.05699 , test=0.19623)\n",
      "[operation finished at 2020-01-26 12:35:19  -  took 8 minutes]\n",
      "[expecting to finish at 2020-01-26 13:40:47]\n",
      "Epoch 13/20\n",
      "  25.09%  [=============>..........................................]  - loss (train=0.02938 , test=0.21721)\n",
      "[operation finished at 2020-01-26 12:43:19  -  took 8 minutes]\n",
      "[expecting to finish at 2020-01-26 13:40:30]\n",
      "Epoch 14/20\n",
      "  25.09%  [=============>..........................................]  - loss (train=0.04880 , test=0.18069)\n",
      "[operation finished at 2020-01-26 12:51:21  -  took 8 minutes]\n",
      "[expecting to finish at 2020-01-26 13:40:16]\n",
      "Epoch 15/20\n",
      "  25.09%  [=============>..........................................]  - loss (train=0.05949 , test=0.17599)\n",
      "[operation finished at 2020-01-26 12:59:22  -  took 8 minutes]\n",
      "[expecting to finish at 2020-01-26 13:40:04]\n",
      "Epoch 16/20\n",
      "  25.09%  [=============>..........................................]  - loss (train=0.05752 , test=0.16912)\n",
      "[operation finished at 2020-01-26 13:07:23  -  took 8 minutes]\n",
      "[expecting to finish at 2020-01-26 13:39:54]\n",
      "Epoch 17/20\n",
      "  25.09%  [=============>..........................................]  - loss (train=0.03607 , test=0.19089)\n",
      "[operation finished at 2020-01-26 13:15:23  -  took 7 minutes]\n",
      "[expecting to finish at 2020-01-26 13:39:44]\n",
      "Epoch 18/20\n",
      "  25.09%  [=============>..........................................]  - loss (train=0.04881 , test=0.14060)\n",
      "[operation finished at 2020-01-26 13:23:23  -  took 7 minutes]\n",
      "[expecting to finish at 2020-01-26 13:39:36]\n",
      "Epoch 19/20\n",
      "  25.09%  [=============>..........................................]  - loss (train=0.04092 , test=0.17602)\n",
      "[operation finished at 2020-01-26 13:31:24  -  took 8 minutes]\n",
      "[expecting to finish at 2020-01-26 13:39:29]\n",
      "Epoch 20/20\n",
      "  25.09%  [=============>..........................................]  - loss (train=0.03401 , test=0.21688)\n",
      "[operation finished at 2020-01-26 13:39:25  -  took 8 minutes]\n",
      "✅ *A-RNN* finished!\n"
     ]
    }
   ],
   "source": [
    "notify('*A-RNN* has started', mark='info')\n",
    "try:\n",
    "    local_loss_train = []\n",
    "    local_loss_test = []\n",
    "    local_acc_train = []\n",
    "    local_acc_test = []\n",
    "    for e in range(nb_epochs):\n",
    "        tx.tick(nb_epochs - e)\n",
    "        \n",
    "\n",
    "        print 'Epoch %d/%d' % (e+1,nb_epochs)\n",
    "\n",
    "        pc = 0\n",
    "        for x_local, y_local in load_data('train'):\n",
    "            prog_print(pc, 55)\n",
    "            pc += .1\n",
    "\n",
    "            x_local = np.reshape(x_local, (batch_size, nb_steps, nb_image_width, nb_image_height, 1))\n",
    "            y_local = to_categorical(y_local)\n",
    "\n",
    "            history_train = model.fit(\n",
    "                x_local,\n",
    "                y_local,\n",
    "                batch_size=keras_batch_size,\n",
    "                epochs=1,\n",
    "                verbose=0\n",
    "            )\n",
    "            model.reset_states()\n",
    "            \n",
    "        for x_local, y_local in load_data('test'):\n",
    "            prog_print(pc, 55)\n",
    "            pc += .1\n",
    "            x_local = np.reshape(x_local, (batch_size, nb_steps, nb_image_width, nb_image_height, 1))\n",
    "            y_local = to_categorical(y_local)\n",
    "\n",
    "            history_test = model.evaluate(\n",
    "                x_local,\n",
    "                y_local,\n",
    "                batch_size=keras_batch_size,\n",
    "                verbose=0\n",
    "            )\n",
    "\n",
    "        mean_loss_train = np.mean(history_train.history['loss'])\n",
    "        mean_loss_test  = np.mean(history_test[0])\n",
    "        print('- loss (train=%.5f , test=%.5f)' % (mean_loss_train, mean_loss_test))\n",
    "        local_loss_train.append(mean_loss_train)\n",
    "        local_loss_test.append(mean_loss_test)\n",
    "\n",
    "        local_acc_train.append(np.mean(history_train.history['acc']))\n",
    "        local_acc_train.append(np.mean(history_test[1]))\n",
    "        tx.tock()\n",
    "    notify('*A-RNN* finished!', mark='ok')\n",
    "except KeyboardInterrupt:\n",
    "    print '\\n\\n-- canceled --'\n",
    "except:\n",
    "    notify('*A-RNN* failed...', mark='error')\n",
    "    raise"
   ]
  },
  {
   "cell_type": "code",
   "execution_count": null,
   "metadata": {
    "colab": {
     "base_uri": "https://localhost:8080/",
     "height": 388
    },
    "colab_type": "code",
    "id": "FFbOX6xRVFvb",
    "outputId": "729df8a2-f9fe-4371-f5a6-8280642313a2"
   },
   "outputs": [],
   "source": [
    "%matplotlib inline\n",
    "def plot_loss_diagrams():\n",
    "    plt.figure(figsize=(3.3,2), dpi=150)\n",
    "    plt.plot(loss_histogram_train, 'b', label='train')\n",
    "    plt.plot(loss_histogram_test, 'r--', label='test')\n",
    "    plt.xlabel(\"Epoch\")\n",
    "    plt.ylabel(\"Loss\")\n",
    "    plt.legend()\n",
    "    plt.show()\n",
    "    sns.despine()\n",
    "plot_loss_diagrams()"
   ]
  },
  {
   "cell_type": "code",
   "execution_count": 0,
   "metadata": {
    "colab": {
     "base_uri": "https://localhost:8080/",
     "height": 607
    },
    "colab_type": "code",
    "id": "OIJZAtp58qQ4",
    "outputId": "3aae2aaa-9724-4f08-c14c-ad3196877720"
   },
   "outputs": [
    {
     "name": "stdout",
     "output_type": "stream",
     "text": [
      "Train accuracy: 0.939904\n",
      "Test accuracy: 0.700521\n"
     ]
    },
    {
     "data": {
      "image/png": "[encoded data removed]",
      "text/plain": [
       "<Figure size 432x288 with 2 Axes>"
      ]
     },
     "metadata": {
      "tags": []
     },
     "output_type": "display_data"
    },
    {
     "data": {
      "image/png": "[encoded data removed]",
      "text/plain": [
       "<Figure size 432x288 with 2 Axes>"
      ]
     },
     "metadata": {
      "tags": []
     },
     "output_type": "display_data"
    }
   ],
   "source": [
    "%matplotlib inline\n",
    "import seaborn as sns\n",
    "def compute_classification_accuracy(trail):\n",
    "    accs = []\n",
    "    loss = []\n",
    "    heatmap = np.zeros((12, 12))\n",
    "    \n",
    "    for x_local, y_local in load_data('acc_%s' % trail):\n",
    "        x_local = np.reshape(x_local, (batch_size, nb_steps, nb_image_width, nb_image_height, 1))\n",
    "        y_local = to_categorical(y_local)\n",
    "\n",
    "        res = model.predict(\n",
    "                x_local,\n",
    "                # y_local,\n",
    "                batch_size=keras_batch_size,\n",
    "                verbose=0\n",
    "        )\n",
    "        y_hat = np.array([np.argmax(res[i]) for i in range(batch_size)])\n",
    "        y = np.array([np.argmax(y_local[i]) for i in range(batch_size)])\n",
    "        \n",
    "        accs.append(np.mean(y == y_hat))\n",
    "        \n",
    "        for i in range(y_local.shape[0]):\n",
    "            heatmap[y[i], y_hat[i]] += 1\n",
    "    return accs, heatmap\n",
    "\n",
    "def print_and_plot_accuracy_metrics():\n",
    "    accs_train, heatmap_train = compute_classification_accuracy('train')\n",
    "    accs_test, heatmap_test = compute_classification_accuracy('test')\n",
    "\n",
    "    print(\"Train accuracy: %f\" % (np.mean(np.array(accs_train))))\n",
    "    print(\"Test accuracy: %f\" % (np.mean(np.array(accs_test))))\n",
    "\n",
    "    sns.heatmap(heatmap_train)\n",
    "    plt.title('Train Result Heatmap (%.1f%%)' % (np.mean(np.array(accs_train))*100))\n",
    "    plt.xlabel(\"Truth\")\n",
    "    plt.ylabel(\"Prediction\")\n",
    "    plt.show()\n",
    "\n",
    "    sns.heatmap(heatmap_test)\n",
    "    plt.title('Test Result Heatmap (%.1f%%)' % (np.mean(np.array(accs_test))*100))\n",
    "    plt.xlabel(\"Truth\")\n",
    "    plt.ylabel(\"Prediction\")\n",
    "    plt.show()\n",
    "\n",
    "print_and_plot_accuracy_metrics()"
   ]
  },
  {
   "cell_type": "code",
   "execution_count": 0,
   "metadata": {
    "colab": {},
    "colab_type": "code",
    "id": "WolBHZH8Gond"
   },
   "outputs": [],
   "source": []
  }
 ],
 "metadata": {
  "accelerator": "GPU",
  "colab": {
   "name": "art_cnn.ipynb",
   "provenance": []
  },
  "kernelspec": {
   "display_name": "Python 2",
   "language": "python",
   "name": "python2"
  },
  "language_info": {
   "codemirror_mode": {
    "name": "ipython",
    "version": 2
   },
   "file_extension": ".py",
   "mimetype": "text/x-python",
   "name": "python",
   "nbconvert_exporter": "python",
   "pygments_lexer": "ipython2",
   "version": "2.7.16"
  }
 },
 "nbformat": 4,
 "nbformat_minor": 1
}
