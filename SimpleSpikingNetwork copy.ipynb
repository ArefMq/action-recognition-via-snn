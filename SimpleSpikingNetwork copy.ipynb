{
 "cells": [
  {
   "cell_type": "code",
   "execution_count": 2,
   "id": "8eddf825-723f-4c64-b038-d83498335fdb",
   "metadata": {},
   "outputs": [],
   "source": [
    "import torch\n",
    "import torchvision\n",
    "import torchvision.transforms as transforms\n",
    "\n",
    "import numpy as np\n",
    "import matplotlib.pyplot as plt\n",
    "\n",
    "from spikenet.network import Network\n",
    "from spikenet.image_to_spike_convertor import ImageToSpikeConvertor, SpikePlotter\n",
    "from IPython.display import HTML\n",
    "\n",
    "splt = SpikePlotter()"
   ]
  },
  {
   "cell_type": "code",
   "execution_count": null,
   "id": "b6acb907",
   "metadata": {},
   "outputs": [],
   "source": [
    "# from matplotlib.animation import FuncAnimation\n",
    "\n",
    "\n",
    "# class SpikePlotter2(SpikePlotter):\n",
    "#     def animate(self, data: torch.Tensor, vmin: float = 0, vmax: float = 1, cmap: str = \"gray\", title: str | None = None):\n",
    "#         fig, ax = plt.subplots()\n",
    "#         if (isinstance(data, torch.Tensor)):\n",
    "#             data = data.detach().numpy()\n",
    "#         t, w, h = data.shape\n",
    "#         img = ax.imshow(np.ones((w, h)), cmap=cmap, vmin=vmin, vmax=vmax)\n",
    "#         if title:\n",
    "#             ax.set_title(title)\n",
    "\n",
    "#         def init():\n",
    "#             return img,\n",
    "\n",
    "#         def update(frame):\n",
    "#             img.set_data(data[frame])\n",
    "#             return img,\n",
    "\n",
    "#         ani = FuncAnimation(\n",
    "#             fig, update, frames=np.arange(0, t), init_func=init, blit=False\n",
    "#         )\n",
    "#         res = ani.to_jshtml()\n",
    "#         plt.close()\n",
    "#         return res\n",
    "\n",
    "#     def plot_spikes_history_1d(self, spikes, title: str | None = None):\n",
    "#         plt.figure()\n",
    "#         plt.plot(spikes)\n",
    "#         plt.title(title or \"1D Spikes\")\n",
    "#         plt.show()\n",
    "\n",
    "\n",
    "# splt = SpikePlotter2()"
   ]
  },
  {
   "cell_type": "code",
   "execution_count": 3,
   "id": "4334c7b3-32da-43d8-9f67-7ff0ce1a8493",
   "metadata": {},
   "outputs": [
    {
     "name": "stdout",
     "output_type": "stream",
     "text": [
      "shape:\n",
      "  - x: torch.Size([16, 784])\n",
      "  - y: torch.Size([])\n",
      "  - batch_size: 128\n"
     ]
    }
   ],
   "source": [
    "class MyData(ImageToSpikeConvertor):\n",
    "    def __init__(self):\n",
    "        super().__init__(\n",
    "            train_data=torchvision.datasets.MNIST(\n",
    "                root=\"./data\",\n",
    "                train=True,\n",
    "                transform=transforms.ToTensor(),\n",
    "                download=True,\n",
    "            ),\n",
    "            test_data=torchvision.datasets.MNIST(\n",
    "                root=\"./data\", train=False, transform=transforms.ToTensor()\n",
    "            ),\n",
    "        )\n",
    "\n",
    "    def x_transform(self, x):\n",
    "        x = super().x_transform(x)\n",
    "        res = x.reshape(-1, self.time_scale, 28 * 28)\n",
    "        return res\n",
    "\n",
    "\n",
    "data = MyData()\n",
    "data.describe()"
   ]
  },
  {
   "cell_type": "code",
   "execution_count": null,
   "id": "1a65a633-50fb-4e5f-8f17-a2807d22a448",
   "metadata": {},
   "outputs": [],
   "source": [
    "def create_net(input_shape, output_shape):\n",
    "    from spikenet.layers.spiking_dense import SpikingDenseLayer\n",
    "\n",
    "    net = (\n",
    "        Network()\n",
    "        .add_layer(\n",
    "            SpikingDenseLayer, name=\"l1\", input_dim=input_shape[1], output_dim=100\n",
    "        )\n",
    "        .add_layer(\n",
    "            SpikingDenseLayer,\n",
    "            name=\"l2\",\n",
    "            input_dim=100,\n",
    "            output_dim=10,\n",
    "            time_reduction=\"SpikeRate\",\n",
    "        )\n",
    "    )\n",
    "    return net"
   ]
  },
  {
   "cell_type": "code",
   "execution_count": null,
   "id": "13422307-c341-497e-8ffc-907de1568a38",
   "metadata": {},
   "outputs": [],
   "source": [
    "input_shape, output_shape = data.shape\n",
    "\n",
    "net = create_net(input_shape, output_shape)\n",
    "\n",
    "net = net.fit(data, epochs=50)"
   ]
  },
  {
   "cell_type": "code",
   "execution_count": null,
   "id": "5f847369",
   "metadata": {},
   "outputs": [],
   "source": [
    "test_data = data.sample()\n",
    "data_x, data_y = test_data\n",
    "\n",
    "res = splt.animate(data_x.reshape(16, 28, 28), title=f\"y= {data_y}\")\n",
    "HTML(res)"
   ]
  },
  {
   "cell_type": "code",
   "execution_count": null,
   "id": "1c25d2ba",
   "metadata": {},
   "outputs": [],
   "source": [
    "net.forward(data_x.reshape([1, *data_x.shape]))\n",
    "# mem = net.layers[0].get_history(\"mem\")\n",
    "# mem.shape\n",
    "# res = splt.animate(mem)\n",
    "# HTML(res)"
   ]
  },
  {
   "cell_type": "code",
   "execution_count": null,
   "id": "0e170d87",
   "metadata": {},
   "outputs": [],
   "source": [
    "mem = net.layers[0].get_history(\"mem\")\n",
    "plt.imshow(mem.reshape(-1, 100), cmap=\"gray\")\n",
    "plt.xlabel(\"Neurons\")\n",
    "plt.ylabel(\"Time\")\n",
    "plt.show()\n",
    "\n",
    "for i in range(10):\n",
    "    plt.plot(mem[0, :, i], label=f\"Neuron {i}\")\n",
    "plt.xlabel(\"Time\")\n",
    "plt.ylabel(\"Membrane Potential\")\n",
    "plt.show()"
   ]
  },
  {
   "cell_type": "code",
   "execution_count": null,
   "id": "6d617dad",
   "metadata": {},
   "outputs": [],
   "source": [
    "mem = net.layers[1].get_history(\"mem\")\n",
    "for i in range(10):\n",
    "    plt.plot(mem[0, :, i], label=f\"Neuron {i}\")\n",
    "# plt.plot(mem.reshape(-1, 10), cmap=\"gray\")\n",
    "plt.xlabel(\"Neurons\")\n",
    "plt.ylabel(\"Time\")\n",
    "plt.show()"
   ]
  },
  {
   "cell_type": "code",
   "execution_count": null,
   "id": "3c691380",
   "metadata": {},
   "outputs": [],
   "source": [
    "plt.imshow(net.layers[0].w.detach().numpy())\n",
    "plt.xlabel(\"Neurons\")\n",
    "plt.ylabel(\"Input\")\n",
    "plt.show()"
   ]
  },
  {
   "cell_type": "code",
   "execution_count": null,
   "id": "5abbb817",
   "metadata": {},
   "outputs": [],
   "source": []
  },
  {
   "cell_type": "code",
   "execution_count": null,
   "id": "c0efc3d8",
   "metadata": {},
   "outputs": [],
   "source": []
  },
  {
   "cell_type": "code",
   "execution_count": null,
   "id": "561b72ec",
   "metadata": {},
   "outputs": [],
   "source": [
    "import torch\n",
    "import torchvision\n",
    "import torchvision.transforms as transforms\n",
    "\n",
    "import numpy as np\n",
    "import matplotlib.pyplot as plt\n",
    "\n",
    "from spikenet.network import Network\n",
    "from spikenet.image_to_spike_convertor import ImageToSpikeConvertor, SpikePlotter\n",
    "\n",
    "splt = SpikePlotter()"
   ]
  },
  {
   "cell_type": "code",
   "execution_count": null,
   "id": "84375404",
   "metadata": {},
   "outputs": [],
   "source": [
    "# import numpy as np\n",
    "# import torch\n",
    "# from spikenet.layers.spiking_base import SpikingNeuron\n",
    "# from spikenet.tools.configs import EPSILON\n",
    "\n",
    "# from spikenet.layers.spiking_dense import SpikingDenseLayer\n",
    "\n",
    "\n",
    "# class SpikingReadoutLayer(SpikingNeuron):\n",
    "#     def __init__(self, **kwargs) -> None:\n",
    "#         super().__init__(**kwargs)\n",
    "\n",
    "#         self.__time_reduction = kwargs.get(\"time_reduction\", \"max\")\n",
    "#         assert self.__time_reduction in [\"max\", \"time\"]\n",
    "\n",
    "#     def _max_reduction(self, x: torch.Tensor) -> torch.Tensor:\n",
    "#         res = torch.max(x, 1)[0]\n",
    "#         return res\n",
    "\n",
    "#     def _time_reduction(self, x: torch.Tensor) -> torch.Tensor:\n",
    "#         max_data = torch.max(x, 1)[1]\n",
    "#         return max_data.min(1)[1]\n",
    "\n",
    "#     def forward(self, x: torch.Tensor) -> torch.Tensor:\n",
    "#         match self.__time_reduction:\n",
    "#             case \"max\":\n",
    "#                 return self._max_reduction(x)\n",
    "#             case \"time\":\n",
    "#                 return self._time_reduction(x)\n",
    "#             case _:\n",
    "#                 raise ValueError(\"Invalid time reduction method\")\n",
    "\n",
    "#     def initialize_parameters(self):\n",
    "#         pass\n",
    "\n",
    "#     def clamp(self):\n",
    "#         pass"
   ]
  },
  {
   "cell_type": "code",
   "execution_count": null,
   "id": "27ebb0e5",
   "metadata": {},
   "outputs": [],
   "source": [
    "# create a random input tensor t*batch_size*input_dim\n",
    "t = 100\n",
    "batch_size = 24\n",
    "input_dim = 10\n",
    "spike_threshold = 0.9\n",
    "\n",
    "input_tensor = torch.rand((batch_size, t, input_dim))\n",
    "input_tensor = (input_tensor > spike_threshold).float()\n",
    "\n",
    "print(\"shape:\", input_tensor.shape)\n",
    "\n",
    "plt.imshow(input_tensor[0, :, :].reshape(-1, input_dim).T, cmap=\"gray\")\n",
    "plt.title(\"Input Spikes\")\n",
    "plt.show()"
   ]
  },
  {
   "cell_type": "code",
   "execution_count": null,
   "id": "923153c8",
   "metadata": {},
   "outputs": [],
   "source": [
    "max_data = torch.max(input_tensor, 1)[1]\n",
    "max_min_data = max_data.min(1)[1]\n",
    "# max_min_data.shape\n",
    "# return max_data.min(1)[1]\n",
    "torch.nn.functional.one_hot(max_min_data, num_classes=10).to(torch.float32)"
   ]
  },
  {
   "cell_type": "code",
   "execution_count": null,
   "metadata": {},
   "outputs": [],
   "source": []
  },
  {
   "cell_type": "code",
   "execution_count": null,
   "id": "8e1c8873",
   "metadata": {},
   "outputs": [],
   "source": [
    "from spikenet.layers.spiking_dense import SpikingDenseLayer\n",
    "\n",
    "\n",
    "layer_1 = SpikingDenseLayer(name=\"dense_layer 1\", input_dim=10, output_dim=2)\n",
    "readout = SpikingDenseLayer(name=\"readout_layer\", input_dim=2, output_dim=2, time_reduction=\"time\")\n",
    "\n",
    "layer_1.initialize_parameters()\n",
    "readout.initialize_parameters()\n",
    "\n",
    "\n",
    "layer_1_output = layer_1.forward(input_tensor)\n",
    "pred = readout.forward(layer_1_output)"
   ]
  },
  {
   "cell_type": "code",
   "execution_count": null,
   "id": "20f74aed",
   "metadata": {},
   "outputs": [],
   "source": [
    "for ly, output in zip([layer_1, readout], [layer_1_output, pred]):\n",
    "    mem = ly.get_history(\"mem\")\n",
    "\n",
    "    for i in range(mem.shape[2]):\n",
    "        plt.plot(mem[0, :, i], f'C{i}', label=f\"Neuron {i}\")\n",
    "        p = output.detach().numpy()[0, :, i]\n",
    "        p = p * mem.max()\n",
    "        p = np.array([[x, y] for x, y in enumerate(p) if y > 0])\n",
    "        if p.shape[0] > 0:\n",
    "            plt.plot(p[:, 0], p[:, 1], f\"C{i}x\", label=f\"Neuron {i} Output\")\n",
    "\n",
    "    plt.title(f\"Layer {ly.name} - winner: {pred.max()}\")\n",
    "    plt.legend()\n",
    "    plt.show()"
   ]
  },
  {
   "cell_type": "code",
   "execution_count": null,
   "id": "5feb95d3",
   "metadata": {},
   "outputs": [],
   "source": []
  }
 ],
 "metadata": {
  "kernelspec": {
   "display_name": "Python 3 (ipykernel)",
   "language": "python",
   "name": "python3"
  },
  "language_info": {
   "codemirror_mode": {
    "name": "ipython",
    "version": 3
   },
   "file_extension": ".py",
   "mimetype": "text/x-python",
   "name": "python",
   "nbconvert_exporter": "python",
   "pygments_lexer": "ipython3",
   "version": "3.11.7"
  }
 },
 "nbformat": 4,
 "nbformat_minor": 5
}
