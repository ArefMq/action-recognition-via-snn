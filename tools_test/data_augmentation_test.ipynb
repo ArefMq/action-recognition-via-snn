{
 "cells": [
  {
   "cell_type": "code",
   "execution_count": 1,
   "metadata": {},
   "outputs": [],
   "source": [
    "import numpy as np\n",
    "import matplotlib.pyplot as plt\n",
    "from random import randint\n",
    "from cache_generator import data_loader, GESTURE_MAPPING\n",
    "\n",
    "CACHE_FOLDER_PATH = \"/Users/aref/dvs-dataset/Cached/\"\n",
    "DATASET_FOLDER_PATH = \"/Users/aref/dvs-dataset/DvsGesture/\"\n",
    "FRAME = 100"
   ]
  },
  {
   "cell_type": "code",
   "execution_count": 22,
   "metadata": {},
   "outputs": [],
   "source": [
    "def data_augment(*args, **kwargs):\n",
    "    max_augmentation = kwargs.pop('max_augmentation', 1)\n",
    "    aug_x_offset = kwargs.pop('aug_x_offset', 15)\n",
    "    aug_y_offset = kwargs.pop('aug_y_offset', 5)\n",
    "    aug_frame_offset = kwargs.pop('aug_f_offset', 10)\n",
    "    frame = kwargs.pop('frame', 100)\n",
    "\n",
    "    for data_x, data_y in data_loader(*args, **kwargs):\n",
    "        label_histogram = {i: 0 for i in GESTURE_MAPPING.keys()}\n",
    "        max_hist = None\n",
    "        output_x = []\n",
    "        output_y = []\n",
    "\n",
    "        last_label = None\n",
    "        buffer_x = []\n",
    "\n",
    "        while max_hist is None or any([i < max_hist for _, i in label_histogram.items()]):\n",
    "            x_offset = randint(-aug_x_offset, aug_x_offset)\n",
    "            y_offset = randint(-aug_y_offset, aug_y_offset)\n",
    "            frame_offset = randint(0, aug_frame_offset)\n",
    "            #             print x_offset, y_offset, frame_offset\n",
    "\n",
    "            for i in range(frame_offset, data_x.shape[0]):\n",
    "                current_x = np.reshape(data_x[i], (64, 64))\n",
    "                current_y = data_y[i]\n",
    "\n",
    "                # image augmentation\n",
    "                current_x = np.roll(current_x, x_offset, axis=0)\n",
    "                current_x = np.roll(current_x, y_offset, axis=1)\n",
    "\n",
    "                if last_label is None:\n",
    "                    last_label = current_y\n",
    "                elif len(buffer_x) >= frame:\n",
    "                    if max_hist is None or label_histogram[current_y] < max_hist:\n",
    "                        output_x.append(np.array(buffer_x))\n",
    "                        output_y.append(current_y)\n",
    "                        label_histogram[current_y] += 1\n",
    "                    buffer_x = []\n",
    "                elif last_label != current_y:\n",
    "                    buffer_x = []\n",
    "                    last_label = current_y\n",
    "                buffer_x.append(current_x)\n",
    "\n",
    "            if max_hist is None:\n",
    "                max_hist = label_histogram[max(label_histogram, key=label_histogram.get)] * max_augmentation\n",
    "\n",
    "        output_x = np.array(output_x)\n",
    "        output_y = np.array(output_y)\n",
    "\n",
    "        shuffle_indices = np.random.permutation(output_x.shape[0])\n",
    "        for i in shuffle_indices:\n",
    "            yield output_x[i, ...], output_y[i]"
   ]
  },
  {
   "cell_type": "code",
   "execution_count": 24,
   "metadata": {},
   "outputs": [
    {
     "name": "stdout",
     "output_type": "stream",
     "text": [
      "{0: 24, 1: 24, 2: 24, 3: 24, 4: 24, 5: 24, 6: 24, 7: 24, 8: 24, 9: 24, 10: 24, 11: 24}\n",
      "done\n"
     ]
    }
   ],
   "source": [
    "%matplotlib qt\n",
    "\n",
    "plt.figure(0)\n",
    "plt.ion()\n",
    "plt.show()\n",
    "\n",
    "imager = 5\n",
    "img = np.zeros((64, 64))\n",
    "for x, y in data_augment('test', DATASET_FOLDER_PATH, CACHE_FOLDER_PATH, condition_limit=['natural'], fram=FRAME):\n",
    "    for i in range(FRAME):\n",
    "        img *= 0.7\n",
    "        img += x[i, :, :]\n",
    "\n",
    "        plt.imshow(img, cmap='gray', vmin=0, vmax=1)\n",
    "        plt.draw()\n",
    "        plt.title('%d - %s' % (i, GESTURE_MAPPING[y]))\n",
    "        plt.pause(0.00001)\n",
    "        plt.clf()\n",
    "    \n",
    "    if imager == 0:\n",
    "        break\n",
    "    imager -= 1\n",
    "print('done')"
   ]
  },
  {
   "cell_type": "code",
   "execution_count": null,
   "metadata": {},
   "outputs": [],
   "source": []
  }
 ],
 "metadata": {
  "kernelspec": {
   "display_name": "Python 2",
   "language": "python",
   "name": "python2"
  },
  "language_info": {
   "codemirror_mode": {
    "name": "ipython",
    "version": 2
   },
   "file_extension": ".py",
   "mimetype": "text/x-python",
   "name": "python",
   "nbconvert_exporter": "python",
   "pygments_lexer": "ipython2",
   "version": "2.7.16"
  }
 },
 "nbformat": 4,
 "nbformat_minor": 2
}
