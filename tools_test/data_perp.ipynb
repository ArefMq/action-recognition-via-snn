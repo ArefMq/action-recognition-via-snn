{
 "cells": [
  {
   "cell_type": "code",
   "execution_count": 1,
   "metadata": {},
   "outputs": [],
   "source": [
    "import numpy as np\n",
    "import matplotlib.pyplot as plt\n",
    "\n",
    "from cache_generator import data_loader, cache_data, GESTURE_MAPPING\n",
    "\n",
    "CACHE_FOLDER_PATH = \"/Users/aref/dvs-dataset/Cached/\"\n",
    "DATASET_FOLDER_PATH = \"/Users/aref/dvs-dataset/DvsGesture/\" "
   ]
  },
  {
   "cell_type": "code",
   "execution_count": 2,
   "metadata": {},
   "outputs": [],
   "source": [
    "cache_data('test', DATASET_FOLDER_PATH, CACHE_FOLDER_PATH)"
   ]
  },
  {
   "cell_type": "code",
   "execution_count": 6,
   "metadata": {},
   "outputs": [
    {
     "name": "stdout",
     "output_type": "stream",
     "text": [
      "done\n"
     ]
    }
   ],
   "source": [
    "%matplotlib qt\n",
    "# Randomly visualize data\n",
    "from random import randint\n",
    "\n",
    "FRAME_TO_SHOW = 100\n",
    "\n",
    "plt.figure(0)\n",
    "plt.ion()\n",
    "plt.show()\n",
    "\n",
    "img = np.zeros((64, 64))\n",
    "for x, y in data_loader('test', DATASET_FOLDER_PATH, CACHE_FOLDER_PATH, condition_limit=['natural']):\n",
    "    idx = randint(0, x.shape[0]-FRAME_TO_SHOW-1)\n",
    "    for i in range(FRAME_TO_SHOW):    \n",
    "        img *= 0.7\n",
    "        img += np.reshape(x[idx+i, :], (64, 64))\n",
    "        label = y[idx+i]\n",
    "    \n",
    "        plt.imshow(img, cmap='gray', vmin=0, vmax=1)\n",
    "        plt.draw()\n",
    "        plt.title('%d - %s' % (i, GESTURE_MAPPING[label]))\n",
    "        plt.pause(0.00001)\n",
    "        plt.clf()\n",
    "    break\n",
    "print 'done'"
   ]
  },
  {
   "cell_type": "code",
   "execution_count": null,
   "metadata": {},
   "outputs": [],
   "source": []
  }
 ],
 "metadata": {
  "kernelspec": {
   "display_name": "Python 2",
   "language": "python",
   "name": "python2"
  },
  "language_info": {
   "codemirror_mode": {
    "name": "ipython",
    "version": 2
   },
   "file_extension": ".py",
   "mimetype": "text/x-python",
   "name": "python",
   "nbconvert_exporter": "python",
   "pygments_lexer": "ipython2",
   "version": "2.7.16"
  }
 },
 "nbformat": 4,
 "nbformat_minor": 2
}
